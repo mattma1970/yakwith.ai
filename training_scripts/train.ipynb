{
 "cells": [
  {
   "cell_type": "code",
   "execution_count": 1,
   "metadata": {},
   "outputs": [
    {
     "data": {
      "text/plain": [
       "'2.1.0+cu121'"
      ]
     },
     "execution_count": 1,
     "metadata": {},
     "output_type": "execute_result"
    }
   ],
   "source": [
    "import torch; torch.version.cuda\n",
    "import torch; torch.__version__"
   ]
  },
  {
   "cell_type": "code",
   "execution_count": null,
   "metadata": {},
   "outputs": [],
   "source": [
    "!pip install --upgrade --force-reinstall --no-cache-dir torch==2.1.0 triton --index-url https://download.pytorch.org/whl/cu121\n",
    "!pip install --upgrade pip\n",
    "!pip install --no-deps --no-build-isolation packaging ninja einops flash-attn xformers trl peft accelerate bitsandbytes"
   ]
  },
  {
   "cell_type": "code",
   "execution_count": 2,
   "metadata": {},
   "outputs": [
    {
     "name": "stdout",
     "output_type": "stream",
     "text": [
      "Collecting unsloth@ git+https://github.com/unslothai/unsloth.git (from unsloth[cu121-ampere]@ git+https://github.com/unslothai/unsloth.git)\n",
      "  Cloning https://github.com/unslothai/unsloth.git to /tmp/pip-install-3jukznyu/unsloth_ab19cd172a8044ecb80b4b9265e1e0c1\n",
      "  Running command git clone --filter=blob:none --quiet https://github.com/unslothai/unsloth.git /tmp/pip-install-3jukznyu/unsloth_ab19cd172a8044ecb80b4b9265e1e0c1\n",
      "  Resolved https://github.com/unslothai/unsloth.git to commit bb81079ca1dba43fc2cdb79a81ce6edf23f87907\n",
      "  Installing build dependencies ... \u001b[?25ldone\n",
      "\u001b[?25h  Getting requirements to build wheel ... \u001b[?25ldone\n",
      "\u001b[?25h  Installing backend dependencies ... \u001b[?25ldone\n",
      "\u001b[?25h  Preparing metadata (pyproject.toml) ... \u001b[?25ldone\n",
      "\u001b[?25hRequirement already satisfied: bitsandbytes in /home/mtman/Documents/Repos/yakwith.ai/.venv/lib/python3.10/site-packages (from unsloth@ git+https://github.com/unslothai/unsloth.git->unsloth[cu121-ampere]@ git+https://github.com/unslothai/unsloth.git) (0.43.0)\n",
      "Requirement already satisfied: packaging in /home/mtman/Documents/Repos/yakwith.ai/.venv/lib/python3.10/site-packages (from unsloth@ git+https://github.com/unslothai/unsloth.git->unsloth[cu121-ampere]@ git+https://github.com/unslothai/unsloth.git) (23.2)\n",
      "Requirement already satisfied: ninja in /home/mtman/Documents/Repos/yakwith.ai/.venv/lib/python3.10/site-packages (from unsloth@ git+https://github.com/unslothai/unsloth.git->unsloth[cu121-ampere]@ git+https://github.com/unslothai/unsloth.git) (1.11.1.1)\n",
      "Requirement already satisfied: flash-attn in /home/mtman/Documents/Repos/yakwith.ai/.venv/lib/python3.10/site-packages (from unsloth@ git+https://github.com/unslothai/unsloth.git->unsloth[cu121-ampere]@ git+https://github.com/unslothai/unsloth.git) (2.5.6)\n",
      "Requirement already satisfied: torch in /home/mtman/Documents/Repos/yakwith.ai/.venv/lib/python3.10/site-packages (from bitsandbytes->unsloth@ git+https://github.com/unslothai/unsloth.git->unsloth[cu121-ampere]@ git+https://github.com/unslothai/unsloth.git) (2.1.0)\n",
      "Requirement already satisfied: numpy in /home/mtman/Documents/Repos/yakwith.ai/.venv/lib/python3.10/site-packages (from bitsandbytes->unsloth@ git+https://github.com/unslothai/unsloth.git->unsloth[cu121-ampere]@ git+https://github.com/unslothai/unsloth.git) (1.26.1)\n",
      "Requirement already satisfied: einops in /home/mtman/Documents/Repos/yakwith.ai/.venv/lib/python3.10/site-packages (from flash-attn->unsloth@ git+https://github.com/unslothai/unsloth.git->unsloth[cu121-ampere]@ git+https://github.com/unslothai/unsloth.git) (0.7.0)\n",
      "Collecting xformers@ https://download.pytorch.org/whl/cu121/xformers-0.0.22.post7-cp310-cp310-manylinux2014_x86_64.whl (from unsloth@ git+https://github.com/unslothai/unsloth.git->unsloth[cu121-ampere]@ git+https://github.com/unslothai/unsloth.git)\n",
      "  Downloading https://download.pytorch.org/whl/cu121/xformers-0.0.22.post7-cp310-cp310-manylinux2014_x86_64.whl (211.8 MB)\n",
      "\u001b[2K     \u001b[90m━━━━━━━━━━━━━━━━━━━━━━━━━━━━━━━━━━━━━━━\u001b[0m \u001b[32m211.8/211.8 MB\u001b[0m \u001b[31m6.1 MB/s\u001b[0m eta \u001b[36m0:00:00\u001b[0m00:01\u001b[0m00:01\u001b[0m\n",
      "\u001b[?25hRequirement already satisfied: tyro in /home/mtman/Documents/Repos/yakwith.ai/.venv/lib/python3.10/site-packages (from unsloth@ git+https://github.com/unslothai/unsloth.git->unsloth[cu121-ampere]@ git+https://github.com/unslothai/unsloth.git) (0.7.3)\n",
      "Requirement already satisfied: transformers>=4.38.2 in /home/mtman/Documents/Repos/yakwith.ai/.venv/lib/python3.10/site-packages (from unsloth@ git+https://github.com/unslothai/unsloth.git->unsloth[cu121-ampere]@ git+https://github.com/unslothai/unsloth.git) (4.38.2)\n",
      "Requirement already satisfied: datasets>=2.16.0 in /home/mtman/Documents/Repos/yakwith.ai/.venv/lib/python3.10/site-packages (from unsloth@ git+https://github.com/unslothai/unsloth.git->unsloth[cu121-ampere]@ git+https://github.com/unslothai/unsloth.git) (2.18.0)\n",
      "Requirement already satisfied: sentencepiece in /home/mtman/Documents/Repos/yakwith.ai/.venv/lib/python3.10/site-packages (from unsloth@ git+https://github.com/unslothai/unsloth.git->unsloth[cu121-ampere]@ git+https://github.com/unslothai/unsloth.git) (0.1.99)\n",
      "Requirement already satisfied: tqdm in /home/mtman/Documents/Repos/yakwith.ai/.venv/lib/python3.10/site-packages (from unsloth@ git+https://github.com/unslothai/unsloth.git->unsloth[cu121-ampere]@ git+https://github.com/unslothai/unsloth.git) (4.66.1)\n",
      "Requirement already satisfied: psutil in /home/mtman/Documents/Repos/yakwith.ai/.venv/lib/python3.10/site-packages (from unsloth@ git+https://github.com/unslothai/unsloth.git->unsloth[cu121-ampere]@ git+https://github.com/unslothai/unsloth.git) (5.9.6)\n",
      "Requirement already satisfied: wheel>=0.42.0 in /home/mtman/Documents/Repos/yakwith.ai/.venv/lib/python3.10/site-packages (from unsloth@ git+https://github.com/unslothai/unsloth.git->unsloth[cu121-ampere]@ git+https://github.com/unslothai/unsloth.git) (0.43.0)\n",
      "Requirement already satisfied: accelerate>=0.26.1 in /home/mtman/Documents/Repos/yakwith.ai/.venv/lib/python3.10/site-packages (from unsloth@ git+https://github.com/unslothai/unsloth.git->unsloth[cu121-ampere]@ git+https://github.com/unslothai/unsloth.git) (0.28.0)\n",
      "Requirement already satisfied: trl>=0.7.9 in /home/mtman/Documents/Repos/yakwith.ai/.venv/lib/python3.10/site-packages (from unsloth@ git+https://github.com/unslothai/unsloth.git->unsloth[cu121-ampere]@ git+https://github.com/unslothai/unsloth.git) (0.8.0)\n",
      "Requirement already satisfied: peft>=0.7.1 in /home/mtman/Documents/Repos/yakwith.ai/.venv/lib/python3.10/site-packages (from unsloth@ git+https://github.com/unslothai/unsloth.git->unsloth[cu121-ampere]@ git+https://github.com/unslothai/unsloth.git) (0.9.0)\n",
      "Requirement already satisfied: pyyaml in /home/mtman/Documents/Repos/yakwith.ai/.venv/lib/python3.10/site-packages (from accelerate>=0.26.1->unsloth@ git+https://github.com/unslothai/unsloth.git->unsloth[cu121-ampere]@ git+https://github.com/unslothai/unsloth.git) (6.0.1)\n",
      "Requirement already satisfied: huggingface-hub in /home/mtman/Documents/Repos/yakwith.ai/.venv/lib/python3.10/site-packages (from accelerate>=0.26.1->unsloth@ git+https://github.com/unslothai/unsloth.git->unsloth[cu121-ampere]@ git+https://github.com/unslothai/unsloth.git) (0.21.4)\n",
      "Requirement already satisfied: safetensors>=0.3.1 in /home/mtman/Documents/Repos/yakwith.ai/.venv/lib/python3.10/site-packages (from accelerate>=0.26.1->unsloth@ git+https://github.com/unslothai/unsloth.git->unsloth[cu121-ampere]@ git+https://github.com/unslothai/unsloth.git) (0.4.2)\n",
      "Requirement already satisfied: filelock in /home/mtman/Documents/Repos/yakwith.ai/.venv/lib/python3.10/site-packages (from datasets>=2.16.0->unsloth@ git+https://github.com/unslothai/unsloth.git->unsloth[cu121-ampere]@ git+https://github.com/unslothai/unsloth.git) (3.13.1)\n",
      "Requirement already satisfied: pyarrow>=12.0.0 in /home/mtman/Documents/Repos/yakwith.ai/.venv/lib/python3.10/site-packages (from datasets>=2.16.0->unsloth@ git+https://github.com/unslothai/unsloth.git->unsloth[cu121-ampere]@ git+https://github.com/unslothai/unsloth.git) (13.0.0)\n",
      "Requirement already satisfied: pyarrow-hotfix in /home/mtman/Documents/Repos/yakwith.ai/.venv/lib/python3.10/site-packages (from datasets>=2.16.0->unsloth@ git+https://github.com/unslothai/unsloth.git->unsloth[cu121-ampere]@ git+https://github.com/unslothai/unsloth.git) (0.6)\n",
      "Requirement already satisfied: dill<0.3.9,>=0.3.0 in /home/mtman/Documents/Repos/yakwith.ai/.venv/lib/python3.10/site-packages (from datasets>=2.16.0->unsloth@ git+https://github.com/unslothai/unsloth.git->unsloth[cu121-ampere]@ git+https://github.com/unslothai/unsloth.git) (0.3.8)\n",
      "Requirement already satisfied: pandas in /home/mtman/Documents/Repos/yakwith.ai/.venv/lib/python3.10/site-packages (from datasets>=2.16.0->unsloth@ git+https://github.com/unslothai/unsloth.git->unsloth[cu121-ampere]@ git+https://github.com/unslothai/unsloth.git) (2.1.2)\n",
      "Requirement already satisfied: requests>=2.19.0 in /home/mtman/Documents/Repos/yakwith.ai/.venv/lib/python3.10/site-packages (from datasets>=2.16.0->unsloth@ git+https://github.com/unslothai/unsloth.git->unsloth[cu121-ampere]@ git+https://github.com/unslothai/unsloth.git) (2.31.0)\n",
      "Requirement already satisfied: xxhash in /home/mtman/Documents/Repos/yakwith.ai/.venv/lib/python3.10/site-packages (from datasets>=2.16.0->unsloth@ git+https://github.com/unslothai/unsloth.git->unsloth[cu121-ampere]@ git+https://github.com/unslothai/unsloth.git) (3.4.1)\n",
      "Requirement already satisfied: multiprocess in /home/mtman/Documents/Repos/yakwith.ai/.venv/lib/python3.10/site-packages (from datasets>=2.16.0->unsloth@ git+https://github.com/unslothai/unsloth.git->unsloth[cu121-ampere]@ git+https://github.com/unslothai/unsloth.git) (0.70.16)\n",
      "Requirement already satisfied: fsspec<=2024.2.0,>=2023.1.0 in /home/mtman/Documents/Repos/yakwith.ai/.venv/lib/python3.10/site-packages (from fsspec[http]<=2024.2.0,>=2023.1.0->datasets>=2.16.0->unsloth@ git+https://github.com/unslothai/unsloth.git->unsloth[cu121-ampere]@ git+https://github.com/unslothai/unsloth.git) (2023.10.0)\n",
      "Requirement already satisfied: aiohttp in /home/mtman/Documents/Repos/yakwith.ai/.venv/lib/python3.10/site-packages (from datasets>=2.16.0->unsloth@ git+https://github.com/unslothai/unsloth.git->unsloth[cu121-ampere]@ git+https://github.com/unslothai/unsloth.git) (3.8.6)\n",
      "Requirement already satisfied: typing-extensions in /home/mtman/Documents/Repos/yakwith.ai/.venv/lib/python3.10/site-packages (from torch->bitsandbytes->unsloth@ git+https://github.com/unslothai/unsloth.git->unsloth[cu121-ampere]@ git+https://github.com/unslothai/unsloth.git) (4.8.0)\n",
      "Requirement already satisfied: sympy in /home/mtman/Documents/Repos/yakwith.ai/.venv/lib/python3.10/site-packages (from torch->bitsandbytes->unsloth@ git+https://github.com/unslothai/unsloth.git->unsloth[cu121-ampere]@ git+https://github.com/unslothai/unsloth.git) (1.12)\n",
      "Requirement already satisfied: networkx in /home/mtman/Documents/Repos/yakwith.ai/.venv/lib/python3.10/site-packages (from torch->bitsandbytes->unsloth@ git+https://github.com/unslothai/unsloth.git->unsloth[cu121-ampere]@ git+https://github.com/unslothai/unsloth.git) (3.2.1)\n",
      "Requirement already satisfied: jinja2 in /home/mtman/Documents/Repos/yakwith.ai/.venv/lib/python3.10/site-packages (from torch->bitsandbytes->unsloth@ git+https://github.com/unslothai/unsloth.git->unsloth[cu121-ampere]@ git+https://github.com/unslothai/unsloth.git) (3.1.2)\n",
      "Requirement already satisfied: nvidia-cuda-nvrtc-cu12==12.1.105 in /home/mtman/Documents/Repos/yakwith.ai/.venv/lib/python3.10/site-packages (from torch->bitsandbytes->unsloth@ git+https://github.com/unslothai/unsloth.git->unsloth[cu121-ampere]@ git+https://github.com/unslothai/unsloth.git) (12.1.105)\n",
      "Requirement already satisfied: nvidia-cuda-runtime-cu12==12.1.105 in /home/mtman/Documents/Repos/yakwith.ai/.venv/lib/python3.10/site-packages (from torch->bitsandbytes->unsloth@ git+https://github.com/unslothai/unsloth.git->unsloth[cu121-ampere]@ git+https://github.com/unslothai/unsloth.git) (12.1.105)\n",
      "Requirement already satisfied: nvidia-cuda-cupti-cu12==12.1.105 in /home/mtman/Documents/Repos/yakwith.ai/.venv/lib/python3.10/site-packages (from torch->bitsandbytes->unsloth@ git+https://github.com/unslothai/unsloth.git->unsloth[cu121-ampere]@ git+https://github.com/unslothai/unsloth.git) (12.1.105)\n",
      "Requirement already satisfied: nvidia-cudnn-cu12==8.9.2.26 in /home/mtman/Documents/Repos/yakwith.ai/.venv/lib/python3.10/site-packages (from torch->bitsandbytes->unsloth@ git+https://github.com/unslothai/unsloth.git->unsloth[cu121-ampere]@ git+https://github.com/unslothai/unsloth.git) (8.9.2.26)\n",
      "Requirement already satisfied: nvidia-cublas-cu12==12.1.3.1 in /home/mtman/Documents/Repos/yakwith.ai/.venv/lib/python3.10/site-packages (from torch->bitsandbytes->unsloth@ git+https://github.com/unslothai/unsloth.git->unsloth[cu121-ampere]@ git+https://github.com/unslothai/unsloth.git) (12.1.3.1)\n",
      "Requirement already satisfied: nvidia-cufft-cu12==11.0.2.54 in /home/mtman/Documents/Repos/yakwith.ai/.venv/lib/python3.10/site-packages (from torch->bitsandbytes->unsloth@ git+https://github.com/unslothai/unsloth.git->unsloth[cu121-ampere]@ git+https://github.com/unslothai/unsloth.git) (11.0.2.54)\n",
      "Requirement already satisfied: nvidia-curand-cu12==10.3.2.106 in /home/mtman/Documents/Repos/yakwith.ai/.venv/lib/python3.10/site-packages (from torch->bitsandbytes->unsloth@ git+https://github.com/unslothai/unsloth.git->unsloth[cu121-ampere]@ git+https://github.com/unslothai/unsloth.git) (10.3.2.106)\n",
      "Requirement already satisfied: nvidia-cusolver-cu12==11.4.5.107 in /home/mtman/Documents/Repos/yakwith.ai/.venv/lib/python3.10/site-packages (from torch->bitsandbytes->unsloth@ git+https://github.com/unslothai/unsloth.git->unsloth[cu121-ampere]@ git+https://github.com/unslothai/unsloth.git) (11.4.5.107)\n",
      "Requirement already satisfied: nvidia-cusparse-cu12==12.1.0.106 in /home/mtman/Documents/Repos/yakwith.ai/.venv/lib/python3.10/site-packages (from torch->bitsandbytes->unsloth@ git+https://github.com/unslothai/unsloth.git->unsloth[cu121-ampere]@ git+https://github.com/unslothai/unsloth.git) (12.1.0.106)\n",
      "Requirement already satisfied: nvidia-nccl-cu12==2.18.1 in /home/mtman/Documents/Repos/yakwith.ai/.venv/lib/python3.10/site-packages (from torch->bitsandbytes->unsloth@ git+https://github.com/unslothai/unsloth.git->unsloth[cu121-ampere]@ git+https://github.com/unslothai/unsloth.git) (2.18.1)\n",
      "Requirement already satisfied: nvidia-nvtx-cu12==12.1.105 in /home/mtman/Documents/Repos/yakwith.ai/.venv/lib/python3.10/site-packages (from torch->bitsandbytes->unsloth@ git+https://github.com/unslothai/unsloth.git->unsloth[cu121-ampere]@ git+https://github.com/unslothai/unsloth.git) (12.1.105)\n",
      "Requirement already satisfied: triton==2.1.0 in /home/mtman/Documents/Repos/yakwith.ai/.venv/lib/python3.10/site-packages (from torch->bitsandbytes->unsloth@ git+https://github.com/unslothai/unsloth.git->unsloth[cu121-ampere]@ git+https://github.com/unslothai/unsloth.git) (2.1.0)\n",
      "Requirement already satisfied: nvidia-nvjitlink-cu12 in /home/mtman/Documents/Repos/yakwith.ai/.venv/lib/python3.10/site-packages (from nvidia-cusolver-cu12==11.4.5.107->torch->bitsandbytes->unsloth@ git+https://github.com/unslothai/unsloth.git->unsloth[cu121-ampere]@ git+https://github.com/unslothai/unsloth.git) (12.3.52)\n",
      "Requirement already satisfied: regex!=2019.12.17 in /home/mtman/Documents/Repos/yakwith.ai/.venv/lib/python3.10/site-packages (from transformers>=4.38.2->unsloth@ git+https://github.com/unslothai/unsloth.git->unsloth[cu121-ampere]@ git+https://github.com/unslothai/unsloth.git) (2023.10.3)\n",
      "Requirement already satisfied: tokenizers<0.19,>=0.14 in /home/mtman/Documents/Repos/yakwith.ai/.venv/lib/python3.10/site-packages (from transformers>=4.38.2->unsloth@ git+https://github.com/unslothai/unsloth.git->unsloth[cu121-ampere]@ git+https://github.com/unslothai/unsloth.git) (0.15.2)\n",
      "Requirement already satisfied: docstring-parser>=0.14.1 in /home/mtman/Documents/Repos/yakwith.ai/.venv/lib/python3.10/site-packages (from tyro->unsloth@ git+https://github.com/unslothai/unsloth.git->unsloth[cu121-ampere]@ git+https://github.com/unslothai/unsloth.git) (0.16)\n",
      "Requirement already satisfied: rich>=11.1.0 in /home/mtman/Documents/Repos/yakwith.ai/.venv/lib/python3.10/site-packages (from tyro->unsloth@ git+https://github.com/unslothai/unsloth.git->unsloth[cu121-ampere]@ git+https://github.com/unslothai/unsloth.git) (13.6.0)\n",
      "Requirement already satisfied: shtab>=1.5.6 in /home/mtman/Documents/Repos/yakwith.ai/.venv/lib/python3.10/site-packages (from tyro->unsloth@ git+https://github.com/unslothai/unsloth.git->unsloth[cu121-ampere]@ git+https://github.com/unslothai/unsloth.git) (1.7.1)\n",
      "Requirement already satisfied: attrs>=17.3.0 in /home/mtman/Documents/Repos/yakwith.ai/.venv/lib/python3.10/site-packages (from aiohttp->datasets>=2.16.0->unsloth@ git+https://github.com/unslothai/unsloth.git->unsloth[cu121-ampere]@ git+https://github.com/unslothai/unsloth.git) (23.1.0)\n",
      "Requirement already satisfied: charset-normalizer<4.0,>=2.0 in /home/mtman/Documents/Repos/yakwith.ai/.venv/lib/python3.10/site-packages (from aiohttp->datasets>=2.16.0->unsloth@ git+https://github.com/unslothai/unsloth.git->unsloth[cu121-ampere]@ git+https://github.com/unslothai/unsloth.git) (3.3.1)\n",
      "Requirement already satisfied: multidict<7.0,>=4.5 in /home/mtman/Documents/Repos/yakwith.ai/.venv/lib/python3.10/site-packages (from aiohttp->datasets>=2.16.0->unsloth@ git+https://github.com/unslothai/unsloth.git->unsloth[cu121-ampere]@ git+https://github.com/unslothai/unsloth.git) (6.0.4)\n",
      "Requirement already satisfied: async-timeout<5.0,>=4.0.0a3 in /home/mtman/Documents/Repos/yakwith.ai/.venv/lib/python3.10/site-packages (from aiohttp->datasets>=2.16.0->unsloth@ git+https://github.com/unslothai/unsloth.git->unsloth[cu121-ampere]@ git+https://github.com/unslothai/unsloth.git) (4.0.3)\n",
      "Requirement already satisfied: yarl<2.0,>=1.0 in /home/mtman/Documents/Repos/yakwith.ai/.venv/lib/python3.10/site-packages (from aiohttp->datasets>=2.16.0->unsloth@ git+https://github.com/unslothai/unsloth.git->unsloth[cu121-ampere]@ git+https://github.com/unslothai/unsloth.git) (1.9.2)\n",
      "Requirement already satisfied: frozenlist>=1.1.1 in /home/mtman/Documents/Repos/yakwith.ai/.venv/lib/python3.10/site-packages (from aiohttp->datasets>=2.16.0->unsloth@ git+https://github.com/unslothai/unsloth.git->unsloth[cu121-ampere]@ git+https://github.com/unslothai/unsloth.git) (1.4.0)\n",
      "Requirement already satisfied: aiosignal>=1.1.2 in /home/mtman/Documents/Repos/yakwith.ai/.venv/lib/python3.10/site-packages (from aiohttp->datasets>=2.16.0->unsloth@ git+https://github.com/unslothai/unsloth.git->unsloth[cu121-ampere]@ git+https://github.com/unslothai/unsloth.git) (1.3.1)\n",
      "Requirement already satisfied: idna<4,>=2.5 in /home/mtman/Documents/Repos/yakwith.ai/.venv/lib/python3.10/site-packages (from requests>=2.19.0->datasets>=2.16.0->unsloth@ git+https://github.com/unslothai/unsloth.git->unsloth[cu121-ampere]@ git+https://github.com/unslothai/unsloth.git) (3.4)\n",
      "Requirement already satisfied: urllib3<3,>=1.21.1 in /home/mtman/Documents/Repos/yakwith.ai/.venv/lib/python3.10/site-packages (from requests>=2.19.0->datasets>=2.16.0->unsloth@ git+https://github.com/unslothai/unsloth.git->unsloth[cu121-ampere]@ git+https://github.com/unslothai/unsloth.git) (1.26.18)\n",
      "Requirement already satisfied: certifi>=2017.4.17 in /home/mtman/Documents/Repos/yakwith.ai/.venv/lib/python3.10/site-packages (from requests>=2.19.0->datasets>=2.16.0->unsloth@ git+https://github.com/unslothai/unsloth.git->unsloth[cu121-ampere]@ git+https://github.com/unslothai/unsloth.git) (2023.7.22)\n",
      "Requirement already satisfied: markdown-it-py>=2.2.0 in /home/mtman/Documents/Repos/yakwith.ai/.venv/lib/python3.10/site-packages (from rich>=11.1.0->tyro->unsloth@ git+https://github.com/unslothai/unsloth.git->unsloth[cu121-ampere]@ git+https://github.com/unslothai/unsloth.git) (3.0.0)\n",
      "Requirement already satisfied: pygments<3.0.0,>=2.13.0 in /home/mtman/Documents/Repos/yakwith.ai/.venv/lib/python3.10/site-packages (from rich>=11.1.0->tyro->unsloth@ git+https://github.com/unslothai/unsloth.git->unsloth[cu121-ampere]@ git+https://github.com/unslothai/unsloth.git) (2.16.1)\n",
      "Requirement already satisfied: MarkupSafe>=2.0 in /home/mtman/Documents/Repos/yakwith.ai/.venv/lib/python3.10/site-packages (from jinja2->torch->bitsandbytes->unsloth@ git+https://github.com/unslothai/unsloth.git->unsloth[cu121-ampere]@ git+https://github.com/unslothai/unsloth.git) (2.1.3)\n",
      "Requirement already satisfied: python-dateutil>=2.8.2 in /home/mtman/Documents/Repos/yakwith.ai/.venv/lib/python3.10/site-packages (from pandas->datasets>=2.16.0->unsloth@ git+https://github.com/unslothai/unsloth.git->unsloth[cu121-ampere]@ git+https://github.com/unslothai/unsloth.git) (2.8.2)\n",
      "Requirement already satisfied: pytz>=2020.1 in /home/mtman/Documents/Repos/yakwith.ai/.venv/lib/python3.10/site-packages (from pandas->datasets>=2.16.0->unsloth@ git+https://github.com/unslothai/unsloth.git->unsloth[cu121-ampere]@ git+https://github.com/unslothai/unsloth.git) (2023.3.post1)\n",
      "Requirement already satisfied: tzdata>=2022.1 in /home/mtman/Documents/Repos/yakwith.ai/.venv/lib/python3.10/site-packages (from pandas->datasets>=2.16.0->unsloth@ git+https://github.com/unslothai/unsloth.git->unsloth[cu121-ampere]@ git+https://github.com/unslothai/unsloth.git) (2023.3)\n",
      "Requirement already satisfied: mpmath>=0.19 in /home/mtman/Documents/Repos/yakwith.ai/.venv/lib/python3.10/site-packages (from sympy->torch->bitsandbytes->unsloth@ git+https://github.com/unslothai/unsloth.git->unsloth[cu121-ampere]@ git+https://github.com/unslothai/unsloth.git) (1.3.0)\n",
      "Requirement already satisfied: mdurl~=0.1 in /home/mtman/Documents/Repos/yakwith.ai/.venv/lib/python3.10/site-packages (from markdown-it-py>=2.2.0->rich>=11.1.0->tyro->unsloth@ git+https://github.com/unslothai/unsloth.git->unsloth[cu121-ampere]@ git+https://github.com/unslothai/unsloth.git) (0.1.2)\n",
      "Requirement already satisfied: six>=1.5 in /home/mtman/Documents/Repos/yakwith.ai/.venv/lib/python3.10/site-packages (from python-dateutil>=2.8.2->pandas->datasets>=2.16.0->unsloth@ git+https://github.com/unslothai/unsloth.git->unsloth[cu121-ampere]@ git+https://github.com/unslothai/unsloth.git) (1.16.0)\n",
      "Building wheels for collected packages: unsloth\n",
      "  Building wheel for unsloth (pyproject.toml) ... \u001b[?25ldone\n",
      "\u001b[?25h  Created wheel for unsloth: filename=unsloth-2024.3-py3-none-any.whl size=90819 sha256=f33824c6d0cb9f7b513c4ed435bd81131d0c9a4e40ab20f960b7c43472efbfb4\n",
      "  Stored in directory: /tmp/pip-ephem-wheel-cache-xb0lhmjw/wheels/ed/d4/e9/76fb290ee3df0a5fc21ce5c2c788e29e9607a2353d8342fd0d\n",
      "Successfully built unsloth\n",
      "Installing collected packages: unsloth, xformers\n",
      "  Attempting uninstall: xformers\n",
      "    Found existing installation: xformers 0.0.25\n",
      "    Uninstalling xformers-0.0.25:\n",
      "      Successfully uninstalled xformers-0.0.25\n",
      "Successfully installed unsloth-2024.3 xformers-0.0.22.post7\n"
     ]
    }
   ],
   "source": [
    "!pip install \"unsloth[cu121-ampere] @ git+https://github.com/unslothai/unsloth.git\""
   ]
  },
  {
   "cell_type": "code",
   "execution_count": 1,
   "metadata": {},
   "outputs": [
    {
     "name": "stderr",
     "output_type": "stream",
     "text": [
      "/home/mtman/Documents/Repos/yakwith.ai/.venv/lib/python3.10/site-packages/tqdm/auto.py:21: TqdmWarning: IProgress not found. Please update jupyter and ipywidgets. See https://ipywidgets.readthedocs.io/en/stable/user_install.html\n",
      "  from .autonotebook import tqdm as notebook_tqdm\n"
     ]
    }
   ],
   "source": [
    "from unsloth import FastLanguageModel\n",
    "import torch\n",
    "max_seq_length = 4000 # Choose any! We auto support RoPE Scaling internally!\n",
    "dtype = None # None for auto detection. Float16 for Tesla T4, V100, Bfloat16 for Ampere+\n",
    "load_in_4bit = False # Use 4bit quantization to reduce memory usage. Can be False."
   ]
  },
  {
   "cell_type": "code",
   "execution_count": 2,
   "metadata": {},
   "outputs": [
    {
     "name": "stdout",
     "output_type": "stream",
     "text": [
      "==((====))==  Unsloth: Fast Mistral patching release 2024.3\n",
      "   \\\\   /|    GPU: NVIDIA GeForce RTX 4090. Max memory: 23.65 GB. Platform = Linux.\n",
      "O^O/ \\_/ \\    Pytorch: 2.1.0+cu121. CUDA = 8.9. CUDA Toolkit = 12.1.\n",
      "\\        /    Bfloat16 = TRUE. Xformers = 0.0.22.post7. FA = True.\n",
      " \"-____-\"     Free Apache license: http://github.com/unslothai/unsloth\n"
     ]
    },
    {
     "name": "stderr",
     "output_type": "stream",
     "text": [
      "Loading checkpoint shards: 100%|██████████| 2/2 [00:06<00:00,  3.24s/it]\n",
      "Special tokens have been added in the vocabulary, make sure the associated word embeddings are fine-tuned or trained.\n",
      "Special tokens have been added in the vocabulary, make sure the associated word embeddings are fine-tuned or trained.\n"
     ]
    }
   ],
   "source": [
    "model, tokenizer = FastLanguageModel.from_pretrained(\n",
    "    model_name = \"/home/mtman/Documents/Repos/yakwith.ai/models/Mistral-7B-OpenOrca\",\n",
    "    max_seq_length = max_seq_length,\n",
    "    dtype = dtype,\n",
    "    load_in_4bit = load_in_4bit,\n",
    "    # token = \"hf_...\", # use one if using gated models like meta-llama/Llama-2-7b-hf\n",
    ")"
   ]
  },
  {
   "cell_type": "code",
   "execution_count": 3,
   "metadata": {},
   "outputs": [
    {
     "name": "stderr",
     "output_type": "stream",
     "text": [
      "Unsloth 2024.3 patched 32 layers with 32 QKV layers, 32 O layers and 32 MLP layers.\n"
     ]
    }
   ],
   "source": [
    "model = FastLanguageModel.get_peft_model(\n",
    "    model,\n",
    "    r = 16, # Choose any number > 0 ! Suggested 8, 16, 32, 64, 128\n",
    "    target_modules = [\"q_proj\", \"k_proj\", \"v_proj\", \"o_proj\",\n",
    "                      \"gate_proj\", \"up_proj\", \"down_proj\",],\n",
    "    lora_alpha = 32,\n",
    "    lora_dropout = 0, # Supports any, but = 0 is optimized\n",
    "    bias = \"none\",    # Supports any, but = \"none\" is optimized\n",
    "    use_gradient_checkpointing = True,\n",
    "    random_state = 3407,\n",
    "    use_rslora = False,  # We support rank stabilized LoRA\n",
    "    loftq_config = None, # And LoftQ\n",
    ")"
   ]
  },
  {
   "cell_type": "code",
   "execution_count": null,
   "metadata": {},
   "outputs": [],
   "source": [
    "model"
   ]
  },
  {
   "cell_type": "code",
   "execution_count": 5,
   "metadata": {},
   "outputs": [
    {
     "name": "stderr",
     "output_type": "stream",
     "text": [
      "Generating train split: 41 examples [00:00, 12289.46 examples/s]\n",
      "Map: 100%|██████████| 41/41 [00:00<00:00, 9099.24 examples/s]\n"
     ]
    }
   ],
   "source": [
    "import datasets\n",
    "\n",
    "from datasets import load_dataset\n",
    "def format_text(text):\n",
    "    return {'text':str(text)}\n",
    "dataset = load_dataset('csv', data_files='/home/mtman/Documents/Repos/yakwith.ai/data/1711005768.173661_2b5/completion_data.tsv', split='train')\n",
    "dataset = dataset.map(format_text)"
   ]
  },
  {
   "cell_type": "code",
   "execution_count": 6,
   "metadata": {},
   "outputs": [
    {
     "data": {
      "text/plain": [
       "'{\\'<|im_start|>system\\\\nYou are a casual waiter in a restaurant. Your job is to collect food and drink orders from customers and answer their questions. You follow these RULES:  You do not make up facts about items on the menu.\\\\n            Where a menu item has choices and alternative ingredients you explore those with the customer before completing the order.\\\\n            You always read the order back to the customer at the end of the conversation and tell them the full price.\\\\n        . The MENU is as follows: {\"food_items\": [{\"name\": \"BREKKY ROLL\", \"price\": \"$13\", \"descriptions\": [\"Bacon & Egg on a Milk Bun\"], \"other\": [\"Sauce: Tomato, BBQ, Chipotle Mayo or Aioli\", \"Add Cheese - $1, Smashed Avo - $2\"]}, {\"name\": \"EGGS POACHED OR FRIED\", \"price\": \"$13\", \"descriptions\": [\"Served on Sourdough or Ciabatta\"], \"other\": [\"Add Cheese - $1, Smashed Avo - $2\"]}, {\"name\": \"EGGS BENEDICT\", \"price\": \"$26\", \"descriptions\": [\"Two Poached Eggs\", \"Spinach\", \"Hollandaise Sauce\", \"Served on Sourdough\"], \"other\": [\"Choice of: Salmon, Bacon or Ham\"]}, {\"name\": \"HOT CHEESE\", \"price\": \"$9.50\", \"descriptions\": [\"With Tomato & Oregano on Sourdough\"]}], \"protein_shake\": {\"price\": \"$14\", \"Ingredients\": [\"Peanut butter\", \"Modern pea protein\", \"Almond milk\", \"Banana\", \"Honey & ice\"], \"Additions\": [\"Add shot of coffee $0.5\"]}, \"iced_drinks\": {\"ICED LONG BLACK\": \"$5.5\", \"ICED LATTE\": \"$6.2\", \"ICED COFFEE\": \"$10.5\", \"ICED CHOCOLATE\": \"$9\", \"AFFOGATO\": \"$7\"}, \"smoothies\": {\"price\": \"$11\", \"Flavors\": [\"Banana\", \"Mixed Berry\", \"Acai\"], \"Milk Alternatives\": {\"Soy, Almond, Oat\": \"$1\"}}, \"extra_items\": {\"Salmon, Gourmet Pork Sausages\": \"$6\", \"Bacon, Haloumi\": \"$5\", \"Avocado, Grilled Tomato\": \"$4\", \"Free-Range Egg\": \"$3\", \"Gluten-Free Bread\": \"$2\"}} <|im_end|>\\\\n<|im_start|>user\\\\nDo you have a vegan burger?<|im_end|>\\\\n<|im_start|>assistant\\\\nI\\\\\\'m sorry, we don\\\\\\'t have a vegan burger on our menu. Would you like to try our AVO BRUSCHETTA or perhaps our HOT CHEESE with Tomato & Oregano on Sourdough?<|im_end|>\\\\n<|im_start|>user\\\\nI\\\\\\'ll go for the AVO BRUSCHETTA then. Can I add a poached egg to it?<|im_end|>\\\\n<|im_start|>assistant\\\\nAbsolutely, we can add a poached egg to the AVO BRUSCHETTA for you. Would you like anything to drink with that?<|im_end|>\\\\n<|im_start|>user\\\\nYes, I\\\\\\'d like an ICED LATTE, please.<|im_end|>\\\\n<|im_start|>assistant\\\\nAn ICED LATTE coming right up. So, to confirm, you\\\\\\'ve ordered an AVO BRUSCHETTA with a Poached Egg and an ICED LATTE. Your total comes to $39.7. Anything else?<|im_end|>\\\\n<|im_start|>user\\\\nThat\\\\\\'s all, thank you.<|im_end|>\\\\n<|im_start|>assistant\\\\nYou\\\\\\'re welcome! We\\\\\\'ll have your order out shortly.<|im_end|>\\\\n\\': \\'<|im_start|>system\\\\nYou are a casual waiter in a restaurant. Your job is to collect food and drink orders from customers and answer their questions. You follow these RULES:  You do not make up facts about items on the menu.\\\\n            Where a menu item has choices and alternative ingredients you explore those with the customer before completing the order.\\\\n            You always read the order back to the customer at the end of the conversation and tell them the full price.\\\\n        . The MENU is as follows: {\"food_items\": [{\"name\": \"BREKKY ROLL\", \"price\": \"$13\", \"descriptions\": [\"Bacon & Egg on a Milk Bun\"], \"other\": [\"Sauce: Tomato, BBQ, Chipotle Mayo or Aioli\", \"Add Cheese - $1, Smashed Avo - $2\"]}, {\"name\": \"EGGS POACHED OR FRIED\", \"price\": \"$13\", \"descriptions\": [\"Served on Sourdough or Ciabatta\"], \"other\": [\"Add Cheese - $1, Smashed Avo - $2\"]}, {\"name\": \"EGGS BENEDICT\", \"price\": \"$26\", \"descriptions\": [\"Two Poached Eggs\", \"Spinach\", \"Hollandaise Sauce\", \"Served on Sourdough\"], \"other\": [\"Choice of: Salmon, Bacon or Ham\"]}, {\"name\": \"HOT CHEESE\", \"price\": \"$9.50\", \"descriptions\": [\"With Tomato & Oregano on Sourdough\"]}], \"protein_shake\": {\"price\": \"$14\", \"Ingredients\": [\"Peanut butter\", \"Modern pea protein\", \"Almond milk\", \"Banana\", \"Honey & ice\"], \"Additions\": [\"Add shot of coffee $0.5\"]}, \"iced_drinks\": {\"ICED LONG BLACK\": \"$5.5\", \"ICED LATTE\": \"$6.2\", \"ICED COFFEE\": \"$10.5\", \"ICED CHOCOLATE\": \"$9\", \"AFFOGATO\": \"$7\"}, \"smoothies\": {\"price\": \"$11\", \"Flavors\": [\"Banana\", \"Mixed Berry\", \"Acai\"], \"Milk Alternatives\": {\"Soy, Almond, Oat\": \"$1\"}}, \"extra_items\": {\"Salmon, Gourmet Pork Sausages\": \"$6\", \"Bacon, Haloumi\": \"$5\", \"Avocado, Grilled Tomato\": \"$4\", \"Free-Range Egg\": \"$3\", \"Gluten-Free Bread\": \"$2\"}} <|im_end|>\\\\n<|im_start|>user\\\\nIs there a chicken salad available?<|im_end|>\\\\n<|im_start|>assistant\\\\nI apologize, but we don\\\\\\'t have a chicken salad on our menu today. May I suggest our EGGS BENEDICT or the BREKKY ROLL instead?<|im_end|>\\\\n<|im_start|>user\\\\nI\\\\\\'ll have the EGGS BENEDICT then, with salmon, please.<|im_end|>\\\\n<|im_start|>assistant\\\\nAn excellent choice! EGGS BENEDICT with Salmon it is. Would you care for a drink to accompany your meal?<|im_end|>\\\\n<|im_start|>user\\\\nCould I get a protein shake with that?<|im_end|>\\\\n<|im_start|>assistant\\\\nCertainly! Would you like to add a shot of coffee to your protein shake for an extra $0.5?<|im_end|>\\\\n<|im_start|>user\\\\nYes, please add the shot of coffee.<|im_end|>\\\\n<|im_start|>assistant\\\\nYou got it! Your order is an EGGS BENEDICT with Salmon and a Protein Shake with a shot of coffee. That comes to $40.5. Will there be anything else?<|im_end|>\\\\n<|im_start|>user\\\\nNo, that\\\\\\'s perfect. Thank you!<|im_end|>\\\\n<|im_start|>assistant\\\\nMy pleasure! Your order will be ready shortly.<|im_end|>\\\\n\\'}'"
      ]
     },
     "execution_count": 6,
     "metadata": {},
     "output_type": "execute_result"
    }
   ],
   "source": [
    "len(dataset); dataset[0]['text']"
   ]
  },
  {
   "cell_type": "code",
   "execution_count": 8,
   "metadata": {},
   "outputs": [],
   "source": [
    "from trl import SFTTrainer\n",
    "from transformers import TrainingArguments\n",
    "\n",
    "trainer = SFTTrainer(\n",
    "    model = model,\n",
    "    tokenizer = tokenizer,\n",
    "    train_dataset = dataset,\n",
    "    dataset_text_field = \"text\",\n",
    "    max_seq_length = max_seq_length,\n",
    "    dataset_num_proc = 2,\n",
    "    packing = False, # Can make training 5x faster for short sequences.\n",
    "    args = TrainingArguments(\n",
    "        per_device_train_batch_size = 5,\n",
    "        gradient_accumulation_steps = 2,\n",
    "        warmup_steps = 5,\n",
    "        max_steps = 60,\n",
    "        learning_rate = 2e-4,\n",
    "        fp16 = not torch.cuda.is_bf16_supported(),\n",
    "        bf16 = torch.cuda.is_bf16_supported(),\n",
    "        logging_steps = 1,\n",
    "        optim = \"adamw_8bit\",\n",
    "        weight_decay = 0.01,\n",
    "        lr_scheduler_type = \"linear\",\n",
    "        seed = 3407,\n",
    "        output_dir = \"outputs\",\n",
    "    ),\n",
    ")\n"
   ]
  },
  {
   "cell_type": "code",
   "execution_count": 9,
   "metadata": {},
   "outputs": [
    {
     "name": "stderr",
     "output_type": "stream",
     "text": [
      "==((====))==  Unsloth - 2x faster free finetuning | Num GPUs = 1\n",
      "   \\\\   /|    Num examples = 41 | Num Epochs = 15\n",
      "O^O/ \\_/ \\    Batch size per device = 5 | Gradient Accumulation steps = 2\n",
      "\\        /    Total batch size = 10 | Total steps = 60\n",
      " \"-____-\"     Number of trainable parameters = 41,943,040\n"
     ]
    },
    {
     "data": {
      "text/html": [
       "\n",
       "    <div>\n",
       "      \n",
       "      <progress value='60' max='60' style='width:300px; height:20px; vertical-align: middle;'></progress>\n",
       "      [60/60 06:04, Epoch 13/15]\n",
       "    </div>\n",
       "    <table border=\"1\" class=\"dataframe\">\n",
       "  <thead>\n",
       " <tr style=\"text-align: left;\">\n",
       "      <th>Step</th>\n",
       "      <th>Training Loss</th>\n",
       "    </tr>\n",
       "  </thead>\n",
       "  <tbody>\n",
       "    <tr>\n",
       "      <td>1</td>\n",
       "      <td>1.462900</td>\n",
       "    </tr>\n",
       "    <tr>\n",
       "      <td>2</td>\n",
       "      <td>1.424000</td>\n",
       "    </tr>\n",
       "    <tr>\n",
       "      <td>3</td>\n",
       "      <td>1.227500</td>\n",
       "    </tr>\n",
       "    <tr>\n",
       "      <td>4</td>\n",
       "      <td>0.992600</td>\n",
       "    </tr>\n",
       "    <tr>\n",
       "      <td>5</td>\n",
       "      <td>0.866000</td>\n",
       "    </tr>\n",
       "    <tr>\n",
       "      <td>6</td>\n",
       "      <td>0.661900</td>\n",
       "    </tr>\n",
       "    <tr>\n",
       "      <td>7</td>\n",
       "      <td>0.501300</td>\n",
       "    </tr>\n",
       "    <tr>\n",
       "      <td>8</td>\n",
       "      <td>0.383700</td>\n",
       "    </tr>\n",
       "    <tr>\n",
       "      <td>9</td>\n",
       "      <td>0.261500</td>\n",
       "    </tr>\n",
       "    <tr>\n",
       "      <td>10</td>\n",
       "      <td>0.185100</td>\n",
       "    </tr>\n",
       "    <tr>\n",
       "      <td>11</td>\n",
       "      <td>0.155200</td>\n",
       "    </tr>\n",
       "    <tr>\n",
       "      <td>12</td>\n",
       "      <td>0.142900</td>\n",
       "    </tr>\n",
       "    <tr>\n",
       "      <td>13</td>\n",
       "      <td>0.117600</td>\n",
       "    </tr>\n",
       "    <tr>\n",
       "      <td>14</td>\n",
       "      <td>0.095300</td>\n",
       "    </tr>\n",
       "    <tr>\n",
       "      <td>15</td>\n",
       "      <td>0.086600</td>\n",
       "    </tr>\n",
       "    <tr>\n",
       "      <td>16</td>\n",
       "      <td>0.079900</td>\n",
       "    </tr>\n",
       "    <tr>\n",
       "      <td>17</td>\n",
       "      <td>0.072900</td>\n",
       "    </tr>\n",
       "    <tr>\n",
       "      <td>18</td>\n",
       "      <td>0.056500</td>\n",
       "    </tr>\n",
       "    <tr>\n",
       "      <td>19</td>\n",
       "      <td>0.056600</td>\n",
       "    </tr>\n",
       "    <tr>\n",
       "      <td>20</td>\n",
       "      <td>0.052900</td>\n",
       "    </tr>\n",
       "    <tr>\n",
       "      <td>21</td>\n",
       "      <td>0.057300</td>\n",
       "    </tr>\n",
       "    <tr>\n",
       "      <td>22</td>\n",
       "      <td>0.057200</td>\n",
       "    </tr>\n",
       "    <tr>\n",
       "      <td>23</td>\n",
       "      <td>0.043600</td>\n",
       "    </tr>\n",
       "    <tr>\n",
       "      <td>24</td>\n",
       "      <td>0.045300</td>\n",
       "    </tr>\n",
       "    <tr>\n",
       "      <td>25</td>\n",
       "      <td>0.039500</td>\n",
       "    </tr>\n",
       "    <tr>\n",
       "      <td>26</td>\n",
       "      <td>0.045300</td>\n",
       "    </tr>\n",
       "    <tr>\n",
       "      <td>27</td>\n",
       "      <td>0.037700</td>\n",
       "    </tr>\n",
       "    <tr>\n",
       "      <td>28</td>\n",
       "      <td>0.028500</td>\n",
       "    </tr>\n",
       "    <tr>\n",
       "      <td>29</td>\n",
       "      <td>0.035200</td>\n",
       "    </tr>\n",
       "    <tr>\n",
       "      <td>30</td>\n",
       "      <td>0.035600</td>\n",
       "    </tr>\n",
       "    <tr>\n",
       "      <td>31</td>\n",
       "      <td>0.037900</td>\n",
       "    </tr>\n",
       "    <tr>\n",
       "      <td>32</td>\n",
       "      <td>0.027600</td>\n",
       "    </tr>\n",
       "    <tr>\n",
       "      <td>33</td>\n",
       "      <td>0.026300</td>\n",
       "    </tr>\n",
       "    <tr>\n",
       "      <td>34</td>\n",
       "      <td>0.026000</td>\n",
       "    </tr>\n",
       "    <tr>\n",
       "      <td>35</td>\n",
       "      <td>0.026800</td>\n",
       "    </tr>\n",
       "    <tr>\n",
       "      <td>36</td>\n",
       "      <td>0.028400</td>\n",
       "    </tr>\n",
       "    <tr>\n",
       "      <td>37</td>\n",
       "      <td>0.020300</td>\n",
       "    </tr>\n",
       "    <tr>\n",
       "      <td>38</td>\n",
       "      <td>0.021100</td>\n",
       "    </tr>\n",
       "    <tr>\n",
       "      <td>39</td>\n",
       "      <td>0.019400</td>\n",
       "    </tr>\n",
       "    <tr>\n",
       "      <td>40</td>\n",
       "      <td>0.022200</td>\n",
       "    </tr>\n",
       "    <tr>\n",
       "      <td>41</td>\n",
       "      <td>0.017400</td>\n",
       "    </tr>\n",
       "    <tr>\n",
       "      <td>42</td>\n",
       "      <td>0.017500</td>\n",
       "    </tr>\n",
       "    <tr>\n",
       "      <td>43</td>\n",
       "      <td>0.016900</td>\n",
       "    </tr>\n",
       "    <tr>\n",
       "      <td>44</td>\n",
       "      <td>0.016900</td>\n",
       "    </tr>\n",
       "    <tr>\n",
       "      <td>45</td>\n",
       "      <td>0.018300</td>\n",
       "    </tr>\n",
       "    <tr>\n",
       "      <td>46</td>\n",
       "      <td>0.014800</td>\n",
       "    </tr>\n",
       "    <tr>\n",
       "      <td>47</td>\n",
       "      <td>0.014200</td>\n",
       "    </tr>\n",
       "    <tr>\n",
       "      <td>48</td>\n",
       "      <td>0.013300</td>\n",
       "    </tr>\n",
       "    <tr>\n",
       "      <td>49</td>\n",
       "      <td>0.013600</td>\n",
       "    </tr>\n",
       "    <tr>\n",
       "      <td>50</td>\n",
       "      <td>0.013200</td>\n",
       "    </tr>\n",
       "    <tr>\n",
       "      <td>51</td>\n",
       "      <td>0.011800</td>\n",
       "    </tr>\n",
       "    <tr>\n",
       "      <td>52</td>\n",
       "      <td>0.012200</td>\n",
       "    </tr>\n",
       "    <tr>\n",
       "      <td>53</td>\n",
       "      <td>0.012000</td>\n",
       "    </tr>\n",
       "    <tr>\n",
       "      <td>54</td>\n",
       "      <td>0.012200</td>\n",
       "    </tr>\n",
       "    <tr>\n",
       "      <td>55</td>\n",
       "      <td>0.011000</td>\n",
       "    </tr>\n",
       "    <tr>\n",
       "      <td>56</td>\n",
       "      <td>0.011600</td>\n",
       "    </tr>\n",
       "    <tr>\n",
       "      <td>57</td>\n",
       "      <td>0.011200</td>\n",
       "    </tr>\n",
       "    <tr>\n",
       "      <td>58</td>\n",
       "      <td>0.011200</td>\n",
       "    </tr>\n",
       "    <tr>\n",
       "      <td>59</td>\n",
       "      <td>0.009800</td>\n",
       "    </tr>\n",
       "    <tr>\n",
       "      <td>60</td>\n",
       "      <td>0.009600</td>\n",
       "    </tr>\n",
       "  </tbody>\n",
       "</table><p>"
      ],
      "text/plain": [
       "<IPython.core.display.HTML object>"
      ]
     },
     "metadata": {},
     "output_type": "display_data"
    }
   ],
   "source": [
    "trainer_stats = trainer.train()"
   ]
  },
  {
   "cell_type": "code",
   "execution_count": 10,
   "metadata": {},
   "outputs": [],
   "source": [
    "FastLanguageModel.for_inference(model)"
   ]
  },
  {
   "cell_type": "code",
   "execution_count": 11,
   "metadata": {},
   "outputs": [],
   "source": [
    "message = [{\"role\":\"system\",'content':'{\"\"food_items\"\": [{\"\"name\"\": \"\"EGGS POACHED OR FRIED\"\", \"\"price\"\": \"\"$13\"\", \"\"descriptions\"\": [\"\"Served on Sourdough or Ciabatta\"\"], \"\"other\"\": [\"\"Add Cheese - $1, Smashed Avo - $2\"\"]}, {\"\"name\"\": \"\"RUSTIC TOAST\"\", \"\"price\"\": \"\"$8.50\"\", \"\"descriptions\"\": [\"\"Sourdough or Ciabatta\"\", \"\"Fig & Lemon Jam\"\", \"\"Orange Marmalade\"\", \"\"Strawberry Jam\"\", \"\"Peanut Butter or Vegemite\"\"]}, {\"\"name\"\": \"\"MEXICAN eggs\"\", \"\"price\"\": \"\"$23\"\", \"\"descriptions\"\": [\"\"Mixed Beans Cooked with Chili, Garlic, Onion and Herbs in a Rich Tomato Sauce\"\", \"\"Baked with Mozzarella\"\", \"\"Two Poached Eggs\"\", \"\"Ciabatta\"\"]}, {\"\"name\"\": \"\"HOT CHEESE\"\", \"\"price\"\": \"\"$9.50\"\", \"\"descriptions\"\": [\"\"With Tomato & Oregano on Sourdough\"\"]}], \"\"tea\"\": {\"\"T-NOMICS ORGANIC LEAF TEA\"\": \"\"$5\"\", \"\"Varieties\"\": [\"\"English Breakfast\"\", \"\"Earl Grey\"\", \"\"Peppermint\"\", \"\"Lemongrass & Ginger\"\", \"\"Golden Oolong Green\"\"]}, \"\"immune_booster_shake\"\": {\"\"price\"\": \"\"$14\"\", \"\"Ingredients\"\": [\"\"Green apple\"\", \"\"Banana\"\", \"\"Spinach\"\", \"\"Mint\"\", \"\"Lime\"\", \"\"Ginger\"\"]}, \"\"protein_shake\"\": {\"\"price\"\": \"\"$14\"\", \"\"Ingredients\"\": [\"\"Peanut butter\"\", \"\"Modern pea protein\"\", \"\"Almond milk\"\", \"\"Banana\"\", \"\"Honey & ice\"\"], \"\"Additions\"\": [\"\"Add shot of coffee $0.5\"\"]}, \"\"extra_items\"\": {\"\"Salmon, Gourmet Pork Sausages\"\": \"\"$6\"\", \"\"Bacon, Haloumi\"\": \"\"$5\"\", \"\"Avocado, Grilled Tomato\"\": \"\"$4\"\", \"\"Free-Range Egg\"\": \"\"$3\"\", \"\"Gluten-Free Bread\"\": \"\"$2\"\"}}'},{\"role\":\"user\",\"content\":'For the Hot Cheese, can I have haloumi instead of the regular cheese?'}]"
   ]
  },
  {
   "cell_type": "code",
   "execution_count": 18,
   "metadata": {},
   "outputs": [],
   "source": [
    "message = [{\"role\":\"system\",'content':'{\"\"food_items\"\": [{\"\"name\"\": \"\"EGGS POACHED OR FRIED\"\", \"\"price\"\": \"\"$13\"\", \"\"descriptions\"\": [\"\"Served on Sourdough or Ciabatta\"\"], \"\"other\"\": [\"\"Add Cheese - $1, Smashed Avo - $2\"\"]}, {\"\"name\"\": \"\"RUSTIC TOAST\"\", \"\"price\"\": \"\"$8.50\"\", \"\"descriptions\"\": [\"\"Sourdough or Ciabatta\"\", \"\"Fig & Lemon Jam\"\", \"\"Orange Marmalade\"\", \"\"Strawberry Jam\"\", \"\"Peanut Butter or Vegemite\"\"]}, {\"\"name\"\": \"\"MEXICAN eggs\"\", \"\"price\"\": \"\"$23\"\", \"\"descriptions\"\": [\"\"Mixed Beans Cooked with Chili, Garlic, Onion and Herbs in a Rich Tomato Sauce\"\", \"\"Baked with Mozzarella\"\", \"\"Two Poached Eggs\"\", \"\"Ciabatta\"\"]}, {\"\"name\"\": \"\"HOT CHEESE\"\", \"\"price\"\": \"\"$9.50\"\", \"\"descriptions\"\": [\"\"With Tomato & Oregano on Sourdough\"\"]}], \"\"tea\"\": {\"\"T-NOMICS ORGANIC LEAF TEA\"\": \"\"$5\"\", \"\"Varieties\"\": [\"\"English Breakfast\"\", \"\"Earl Grey\"\", \"\"Peppermint\"\", \"\"Lemongrass & Ginger\"\", \"\"Golden Oolong Green\"\"]}, \"\"immune_booster_shake\"\": {\"\"price\"\": \"\"$14\"\", \"\"Ingredients\"\": [\"\"Green apple\"\", \"\"Banana\"\", \"\"Spinach\"\", \"\"Mint\"\", \"\"Lime\"\", \"\"Ginger\"\"]}, \"\"protein_shake\"\": {\"\"price\"\": \"\"$14\"\", \"\"Ingredients\"\": [\"\"Peanut butter\"\", \"\"Modern pea protein\"\", \"\"Almond milk\"\", \"\"Banana\"\", \"\"Honey & ice\"\"], \"\"Additions\"\": [\"\"Add shot of coffee $0.5\"\"]}, \"\"extra_items\"\": {\"\"Salmon, Gourmet Pork Sausages\"\": \"\"$6\"\", \"\"Bacon, Haloumi\"\": \"\"$5\"\", \"\"Avocado, Grilled Tomato\"\": \"\"$4\"\", \"\"Free-Range Egg\"\": \"\"$3\"\", \"\"Gluten-Free Bread\"\": \"\"$2\"\"}}'},{\"role\":\"user\",\"content\":'Hi, can I just get the rustic toast thanks?'}]"
   ]
  },
  {
   "cell_type": "code",
   "execution_count": 13,
   "metadata": {},
   "outputs": [],
   "source": [
    "message = [{\"role\":\"system\",'content':'{\"\"food_items\"\": [{\"\"name\"\": \"\"eggs poached or fried\"\", \"\"price\"\": \"\"$13\"\", \"\"descriptions\"\": [\"\"Served on Sourdough or Ciabatta\"\"], \"\"other\"\": [\"\"Add Cheese - $1, Smashed Avo - $2\"\"]}, {\"\"name\"\": \"\"RUSTIC TOAST\"\", \"\"price\"\": \"\"$8.50\"\", \"\"descriptions\"\": [\"\"Sourdough or Ciabatta\"\", \"\"Fig & Lemon Jam\"\", \"\"Orange Marmalade\"\", \"\"Strawberry Jam\"\", \"\"Peanut Butter or Vegemite\"\"]}, {\"\"name\"\": \"\"MEXICAN eggs\"\", \"\"price\"\": \"\"$23\"\", \"\"descriptions\"\": [\"\"Mixed Beans Cooked with Chili, Garlic, Onion and Herbs in a Rich Tomato Sauce\"\", \"\"Baked with Mozzarella\"\", \"\"Two Poached Eggs\"\", \"\"Ciabatta\"\"]}, {\"\"name\"\": \"\"HOT CHEESE\"\", \"\"price\"\": \"\"$9.50\"\", \"\"descriptions\"\": [\"\"With Tomato & Oregano on Sourdough\"\"]}], \"\"tea\"\": {\"\"T-NOMICS ORGANIC LEAF TEA\"\": \"\"$5\"\", \"\"Varieties\"\": [\"\"English Breakfast\"\", \"\"Earl Grey\"\", \"\"Peppermint\"\", \"\"Lemongrass & Ginger\"\", \"\"Golden Oolong Green\"\"]}, \"\"immune_booster_shake\"\": {\"\"price\"\": \"\"$14\"\", \"\"Ingredients\"\": [\"\"Green apple\"\", \"\"Banana\"\", \"\"Spinach\"\", \"\"Mint\"\", \"\"Lime\"\", \"\"Ginger\"\"]}, \"\"protein_shake\"\": {\"\"price\"\": \"\"$14\"\", \"\"Ingredients\"\": [\"\"Peanut butter\"\", \"\"Modern pea protein\"\", \"\"Almond milk\"\", \"\"Banana\"\", \"\"Honey & ice\"\"], \"\"Additions\"\": [\"\"Add shot of coffee $0.5\"\"]}, \"\"extra_items\"\": {\"\"Salmon, Gourmet Pork Sausages\"\": \"\"$6\"\", \"\"Bacon, Haloumi\"\": \"\"$5\"\", \"\"Avocado, Grilled Tomato\"\": \"\"$4\"\", \"\"Free-Range Egg\"\": \"\"$3\"\", \"\"Gluten-Free Bread\"\": \"\"$2\"\"}}'},{\"role\":\"user\",\"content\":'Which teas are organic?'}]"
   ]
  },
  {
   "cell_type": "code",
   "execution_count": 14,
   "metadata": {},
   "outputs": [],
   "source": [
    "from transformers import TextStreamer\n",
    "text_streamer = TextStreamer(tokenizer)"
   ]
  },
  {
   "cell_type": "code",
   "execution_count": 19,
   "metadata": {},
   "outputs": [
    {
     "name": "stderr",
     "output_type": "stream",
     "text": [
      "The attention mask and the pad token id were not set. As a consequence, you may observe unexpected behavior. Please pass your input's `attention_mask` to obtain reliable results.\n",
      "Setting `pad_token_id` to `eos_token_id`:32000 for open-end generation.\n"
     ]
    },
    {
     "name": "stdout",
     "output_type": "stream",
     "text": [
      "<|im_start|> system\n",
      "{\"\"food_items\"\": [{\"\"name\"\": \"\"EGGS POACHED OR FRIED\"\", \"\"price\"\": \"\"$13\"\", \"\"descriptions\"\": [\"\"Served on Sourdough or Ciabatta\"\"], \"\"other\"\": [\"\"Add Cheese - $1, Smashed Avo - $2\"\"]}, {\"\"name\"\": \"\"RUSTIC TOAST\"\", \"\"price\"\": \"\"$8.50\"\", \"\"descriptions\"\": [\"\"Sourdough or Ciabatta\"\", \"\"Fig & Lemon Jam\"\", \"\"Orange Marmalade\"\", \"\"Strawberry Jam\"\", \"\"Peanut Butter or Vegemite\"\"]}, {\"\"name\"\": \"\"MEXICAN eggs\"\", \"\"price\"\": \"\"$23\"\", \"\"descriptions\"\": [\"\"Mixed Beans Cooked with Chili, Garlic, Onion and Herbs in a Rich Tomato Sauce\"\", \"\"Baked with Mozzarella\"\", \"\"Two Poached Eggs\"\", \"\"Ciabatta\"\"]}, {\"\"name\"\": \"\"HOT CHEESE\"\", \"\"price\"\": \"\"$9.50\"\", \"\"descriptions\"\": [\"\"With Tomato & Oregano on Sourdough\"\"]}], \"\"tea\"\": {\"\"T-NOMICS ORGANIC LEAF TEA\"\": \"\"$5\"\", \"\"Varieties\"\": [\"\"English Breakfast\"\", \"\"Earl Grey\"\", \"\"Peppermint\"\", \"\"Lemongrass & Ginger\"\", \"\"Golden Oolong Green\"\"]}, \"\"immune_booster_shake\"\": {\"\"price\"\": \"\"$14\"\", \"\"Ingredients\"\": [\"\"Green apple\"\", \"\"Banana\"\", \"\"Spinach\"\", \"\"Mint\"\", \"\"Lime\"\", \"\"Ginger\"\"]}, \"\"protein_shake\"\": {\"\"price\"\": \"\"$14\"\", \"\"Ingredients\"\": [\"\"Peanut butter\"\", \"\"Modern pea protein\"\", \"\"Almond milk\"\", \"\"Banana\"\", \"\"Honey & ice\"\"], \"\"Additions\"\": [\"\"Add shot of coffee $0.5\"\"]}, \"\"extra_items\"\": {\"\"Salmon, Gourmet Pork Sausages\"\": \"\"$6\"\", \"\"Bacon, Haloumi\"\": \"\"$5\"\", \"\"Avocado, Grilled Tomato\"\": \"\"$4\"\", \"\"Free-Range Egg\"\": \"\"$3\"\", \"\"Gluten-Free Bread\"\": \"\"$2\"\"}}<|im_end|><|im_start|> user\n",
      "Hi, can I just get the rustic toast thanks?<|im_end|><|im_start|> assistant\n",
      "Hello! Sure, the Rustic Toast comes with your choice of Sourdough or Ciabatta, along with Fig & Lemon Jam, Orange Marmalade, Strawberry Jam, Peanut Butter, or Vegemite. Which would you like?<|im_end|>\n"
     ]
    }
   ],
   "source": [
    "inputs = tokenizer.apply_chat_template(message,tokenize=True, add_generation_prompt=True,return_tensors='pt')\n",
    "input = inputs.to('cuda')\n",
    "_ = model.generate(input_ids = input, streamer=text_streamer, max_new_tokens = 64, use_cache = True)\n",
    "\n",
    "# tokenizer.batch_decode(outputs)"
   ]
  },
  {
   "cell_type": "code",
   "execution_count": 20,
   "metadata": {},
   "outputs": [
    {
     "name": "stdout",
     "output_type": "stream",
     "text": [
      "Unsloth: Merging 4bit and LoRA weights to 16bit...\n",
      "Unsloth: Will use up to 41.05 out of 61.94 RAM for saving.\n"
     ]
    },
    {
     "name": "stderr",
     "output_type": "stream",
     "text": [
      "100%|██████████| 32/32 [00:00<00:00, 112.11it/s]\n"
     ]
    },
    {
     "name": "stdout",
     "output_type": "stream",
     "text": [
      "Unsloth: Saving tokenizer... Done.\n",
      "Unsloth: Saving model... This might take 5 minutes for Llama-7b...\n",
      "Done.\n"
     ]
    },
    {
     "ename": "",
     "evalue": "",
     "output_type": "error",
     "traceback": [
      "\u001b[1;31mThe Kernel crashed while executing code in the current cell or a previous cell. \n",
      "\u001b[1;31mPlease review the code in the cell(s) to identify a possible cause of the failure. \n",
      "\u001b[1;31mClick <a href='https://aka.ms/vscodeJupyterKernelCrash'>here</a> for more info. \n",
      "\u001b[1;31mView Jupyter <a href='command:jupyter.viewOutput'>log</a> for further details."
     ]
    }
   ],
   "source": [
    "model.save_pretrained_merged(\"/home/mtman/Documents/Repos/yakwith.ai/models/Finetuned-Mistral-7B-OpenOrca\", tokenizer, save_method=\"merged_16bit\",)"
   ]
  },
  {
   "cell_type": "code",
   "execution_count": null,
   "metadata": {},
   "outputs": [],
   "source": [
    "model.generate"
   ]
  }
 ],
 "metadata": {
  "kernelspec": {
   "display_name": ".venv",
   "language": "python",
   "name": "python3"
  },
  "language_info": {
   "codemirror_mode": {
    "name": "ipython",
    "version": 3
   },
   "file_extension": ".py",
   "mimetype": "text/x-python",
   "name": "python",
   "nbconvert_exporter": "python",
   "pygments_lexer": "ipython3",
   "version": "3.10.12"
  }
 },
 "nbformat": 4,
 "nbformat_minor": 2
}
