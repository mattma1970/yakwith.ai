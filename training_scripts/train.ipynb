{
 "cells": [
  {
   "cell_type": "code",
   "execution_count": 1,
   "metadata": {},
   "outputs": [
    {
     "data": {
      "text/plain": [
       "'12.1'"
      ]
     },
     "execution_count": 1,
     "metadata": {},
     "output_type": "execute_result"
    }
   ],
   "source": [
    "import torch; torch.version.cuda\n",
    "import torch; torch.__version__"
   ]
  },
  {
   "cell_type": "code",
   "execution_count": null,
   "metadata": {},
   "outputs": [],
   "source": [
    "!pip install --upgrade --force-reinstall --no-cache-dir torch==2.1.0 triton --index-url https://download.pytorch.org/whl/cu121\n",
    "!pip install --upgrade pip\n",
    "!pip install --no-deps --no-build-isolation packaging ninja einops flash-attn xformers trl peft accelerate bitsandbytes"
   ]
  },
  {
   "cell_type": "code",
   "execution_count": 2,
   "metadata": {},
   "outputs": [
    {
     "name": "stdout",
     "output_type": "stream",
     "text": [
      "Collecting unsloth@ git+https://github.com/unslothai/unsloth.git (from unsloth[cu121-ampere]@ git+https://github.com/unslothai/unsloth.git)\n",
      "  Cloning https://github.com/unslothai/unsloth.git to /tmp/pip-install-3jukznyu/unsloth_ab19cd172a8044ecb80b4b9265e1e0c1\n",
      "  Running command git clone --filter=blob:none --quiet https://github.com/unslothai/unsloth.git /tmp/pip-install-3jukznyu/unsloth_ab19cd172a8044ecb80b4b9265e1e0c1\n",
      "  Resolved https://github.com/unslothai/unsloth.git to commit bb81079ca1dba43fc2cdb79a81ce6edf23f87907\n",
      "  Installing build dependencies ... \u001b[?25ldone\n",
      "\u001b[?25h  Getting requirements to build wheel ... \u001b[?25ldone\n",
      "\u001b[?25h  Installing backend dependencies ... \u001b[?25ldone\n",
      "\u001b[?25h  Preparing metadata (pyproject.toml) ... \u001b[?25ldone\n",
      "\u001b[?25hRequirement already satisfied: bitsandbytes in /home/mtman/Documents/Repos/yakwith.ai/.venv/lib/python3.10/site-packages (from unsloth@ git+https://github.com/unslothai/unsloth.git->unsloth[cu121-ampere]@ git+https://github.com/unslothai/unsloth.git) (0.43.0)\n",
      "Requirement already satisfied: packaging in /home/mtman/Documents/Repos/yakwith.ai/.venv/lib/python3.10/site-packages (from unsloth@ git+https://github.com/unslothai/unsloth.git->unsloth[cu121-ampere]@ git+https://github.com/unslothai/unsloth.git) (23.2)\n",
      "Requirement already satisfied: ninja in /home/mtman/Documents/Repos/yakwith.ai/.venv/lib/python3.10/site-packages (from unsloth@ git+https://github.com/unslothai/unsloth.git->unsloth[cu121-ampere]@ git+https://github.com/unslothai/unsloth.git) (1.11.1.1)\n",
      "Requirement already satisfied: flash-attn in /home/mtman/Documents/Repos/yakwith.ai/.venv/lib/python3.10/site-packages (from unsloth@ git+https://github.com/unslothai/unsloth.git->unsloth[cu121-ampere]@ git+https://github.com/unslothai/unsloth.git) (2.5.6)\n",
      "Requirement already satisfied: torch in /home/mtman/Documents/Repos/yakwith.ai/.venv/lib/python3.10/site-packages (from bitsandbytes->unsloth@ git+https://github.com/unslothai/unsloth.git->unsloth[cu121-ampere]@ git+https://github.com/unslothai/unsloth.git) (2.1.0)\n",
      "Requirement already satisfied: numpy in /home/mtman/Documents/Repos/yakwith.ai/.venv/lib/python3.10/site-packages (from bitsandbytes->unsloth@ git+https://github.com/unslothai/unsloth.git->unsloth[cu121-ampere]@ git+https://github.com/unslothai/unsloth.git) (1.26.1)\n",
      "Requirement already satisfied: einops in /home/mtman/Documents/Repos/yakwith.ai/.venv/lib/python3.10/site-packages (from flash-attn->unsloth@ git+https://github.com/unslothai/unsloth.git->unsloth[cu121-ampere]@ git+https://github.com/unslothai/unsloth.git) (0.7.0)\n",
      "Collecting xformers@ https://download.pytorch.org/whl/cu121/xformers-0.0.22.post7-cp310-cp310-manylinux2014_x86_64.whl (from unsloth@ git+https://github.com/unslothai/unsloth.git->unsloth[cu121-ampere]@ git+https://github.com/unslothai/unsloth.git)\n",
      "  Downloading https://download.pytorch.org/whl/cu121/xformers-0.0.22.post7-cp310-cp310-manylinux2014_x86_64.whl (211.8 MB)\n",
      "\u001b[2K     \u001b[90m━━━━━━━━━━━━━━━━━━━━━━━━━━━━━━━━━━━━━━━\u001b[0m \u001b[32m211.8/211.8 MB\u001b[0m \u001b[31m6.1 MB/s\u001b[0m eta \u001b[36m0:00:00\u001b[0m00:01\u001b[0m00:01\u001b[0m\n",
      "\u001b[?25hRequirement already satisfied: tyro in /home/mtman/Documents/Repos/yakwith.ai/.venv/lib/python3.10/site-packages (from unsloth@ git+https://github.com/unslothai/unsloth.git->unsloth[cu121-ampere]@ git+https://github.com/unslothai/unsloth.git) (0.7.3)\n",
      "Requirement already satisfied: transformers>=4.38.2 in /home/mtman/Documents/Repos/yakwith.ai/.venv/lib/python3.10/site-packages (from unsloth@ git+https://github.com/unslothai/unsloth.git->unsloth[cu121-ampere]@ git+https://github.com/unslothai/unsloth.git) (4.38.2)\n",
      "Requirement already satisfied: datasets>=2.16.0 in /home/mtman/Documents/Repos/yakwith.ai/.venv/lib/python3.10/site-packages (from unsloth@ git+https://github.com/unslothai/unsloth.git->unsloth[cu121-ampere]@ git+https://github.com/unslothai/unsloth.git) (2.18.0)\n",
      "Requirement already satisfied: sentencepiece in /home/mtman/Documents/Repos/yakwith.ai/.venv/lib/python3.10/site-packages (from unsloth@ git+https://github.com/unslothai/unsloth.git->unsloth[cu121-ampere]@ git+https://github.com/unslothai/unsloth.git) (0.1.99)\n",
      "Requirement already satisfied: tqdm in /home/mtman/Documents/Repos/yakwith.ai/.venv/lib/python3.10/site-packages (from unsloth@ git+https://github.com/unslothai/unsloth.git->unsloth[cu121-ampere]@ git+https://github.com/unslothai/unsloth.git) (4.66.1)\n",
      "Requirement already satisfied: psutil in /home/mtman/Documents/Repos/yakwith.ai/.venv/lib/python3.10/site-packages (from unsloth@ git+https://github.com/unslothai/unsloth.git->unsloth[cu121-ampere]@ git+https://github.com/unslothai/unsloth.git) (5.9.6)\n",
      "Requirement already satisfied: wheel>=0.42.0 in /home/mtman/Documents/Repos/yakwith.ai/.venv/lib/python3.10/site-packages (from unsloth@ git+https://github.com/unslothai/unsloth.git->unsloth[cu121-ampere]@ git+https://github.com/unslothai/unsloth.git) (0.43.0)\n",
      "Requirement already satisfied: accelerate>=0.26.1 in /home/mtman/Documents/Repos/yakwith.ai/.venv/lib/python3.10/site-packages (from unsloth@ git+https://github.com/unslothai/unsloth.git->unsloth[cu121-ampere]@ git+https://github.com/unslothai/unsloth.git) (0.28.0)\n",
      "Requirement already satisfied: trl>=0.7.9 in /home/mtman/Documents/Repos/yakwith.ai/.venv/lib/python3.10/site-packages (from unsloth@ git+https://github.com/unslothai/unsloth.git->unsloth[cu121-ampere]@ git+https://github.com/unslothai/unsloth.git) (0.8.0)\n",
      "Requirement already satisfied: peft>=0.7.1 in /home/mtman/Documents/Repos/yakwith.ai/.venv/lib/python3.10/site-packages (from unsloth@ git+https://github.com/unslothai/unsloth.git->unsloth[cu121-ampere]@ git+https://github.com/unslothai/unsloth.git) (0.9.0)\n",
      "Requirement already satisfied: pyyaml in /home/mtman/Documents/Repos/yakwith.ai/.venv/lib/python3.10/site-packages (from accelerate>=0.26.1->unsloth@ git+https://github.com/unslothai/unsloth.git->unsloth[cu121-ampere]@ git+https://github.com/unslothai/unsloth.git) (6.0.1)\n",
      "Requirement already satisfied: huggingface-hub in /home/mtman/Documents/Repos/yakwith.ai/.venv/lib/python3.10/site-packages (from accelerate>=0.26.1->unsloth@ git+https://github.com/unslothai/unsloth.git->unsloth[cu121-ampere]@ git+https://github.com/unslothai/unsloth.git) (0.21.4)\n",
      "Requirement already satisfied: safetensors>=0.3.1 in /home/mtman/Documents/Repos/yakwith.ai/.venv/lib/python3.10/site-packages (from accelerate>=0.26.1->unsloth@ git+https://github.com/unslothai/unsloth.git->unsloth[cu121-ampere]@ git+https://github.com/unslothai/unsloth.git) (0.4.2)\n",
      "Requirement already satisfied: filelock in /home/mtman/Documents/Repos/yakwith.ai/.venv/lib/python3.10/site-packages (from datasets>=2.16.0->unsloth@ git+https://github.com/unslothai/unsloth.git->unsloth[cu121-ampere]@ git+https://github.com/unslothai/unsloth.git) (3.13.1)\n",
      "Requirement already satisfied: pyarrow>=12.0.0 in /home/mtman/Documents/Repos/yakwith.ai/.venv/lib/python3.10/site-packages (from datasets>=2.16.0->unsloth@ git+https://github.com/unslothai/unsloth.git->unsloth[cu121-ampere]@ git+https://github.com/unslothai/unsloth.git) (13.0.0)\n",
      "Requirement already satisfied: pyarrow-hotfix in /home/mtman/Documents/Repos/yakwith.ai/.venv/lib/python3.10/site-packages (from datasets>=2.16.0->unsloth@ git+https://github.com/unslothai/unsloth.git->unsloth[cu121-ampere]@ git+https://github.com/unslothai/unsloth.git) (0.6)\n",
      "Requirement already satisfied: dill<0.3.9,>=0.3.0 in /home/mtman/Documents/Repos/yakwith.ai/.venv/lib/python3.10/site-packages (from datasets>=2.16.0->unsloth@ git+https://github.com/unslothai/unsloth.git->unsloth[cu121-ampere]@ git+https://github.com/unslothai/unsloth.git) (0.3.8)\n",
      "Requirement already satisfied: pandas in /home/mtman/Documents/Repos/yakwith.ai/.venv/lib/python3.10/site-packages (from datasets>=2.16.0->unsloth@ git+https://github.com/unslothai/unsloth.git->unsloth[cu121-ampere]@ git+https://github.com/unslothai/unsloth.git) (2.1.2)\n",
      "Requirement already satisfied: requests>=2.19.0 in /home/mtman/Documents/Repos/yakwith.ai/.venv/lib/python3.10/site-packages (from datasets>=2.16.0->unsloth@ git+https://github.com/unslothai/unsloth.git->unsloth[cu121-ampere]@ git+https://github.com/unslothai/unsloth.git) (2.31.0)\n",
      "Requirement already satisfied: xxhash in /home/mtman/Documents/Repos/yakwith.ai/.venv/lib/python3.10/site-packages (from datasets>=2.16.0->unsloth@ git+https://github.com/unslothai/unsloth.git->unsloth[cu121-ampere]@ git+https://github.com/unslothai/unsloth.git) (3.4.1)\n",
      "Requirement already satisfied: multiprocess in /home/mtman/Documents/Repos/yakwith.ai/.venv/lib/python3.10/site-packages (from datasets>=2.16.0->unsloth@ git+https://github.com/unslothai/unsloth.git->unsloth[cu121-ampere]@ git+https://github.com/unslothai/unsloth.git) (0.70.16)\n",
      "Requirement already satisfied: fsspec<=2024.2.0,>=2023.1.0 in /home/mtman/Documents/Repos/yakwith.ai/.venv/lib/python3.10/site-packages (from fsspec[http]<=2024.2.0,>=2023.1.0->datasets>=2.16.0->unsloth@ git+https://github.com/unslothai/unsloth.git->unsloth[cu121-ampere]@ git+https://github.com/unslothai/unsloth.git) (2023.10.0)\n",
      "Requirement already satisfied: aiohttp in /home/mtman/Documents/Repos/yakwith.ai/.venv/lib/python3.10/site-packages (from datasets>=2.16.0->unsloth@ git+https://github.com/unslothai/unsloth.git->unsloth[cu121-ampere]@ git+https://github.com/unslothai/unsloth.git) (3.8.6)\n",
      "Requirement already satisfied: typing-extensions in /home/mtman/Documents/Repos/yakwith.ai/.venv/lib/python3.10/site-packages (from torch->bitsandbytes->unsloth@ git+https://github.com/unslothai/unsloth.git->unsloth[cu121-ampere]@ git+https://github.com/unslothai/unsloth.git) (4.8.0)\n",
      "Requirement already satisfied: sympy in /home/mtman/Documents/Repos/yakwith.ai/.venv/lib/python3.10/site-packages (from torch->bitsandbytes->unsloth@ git+https://github.com/unslothai/unsloth.git->unsloth[cu121-ampere]@ git+https://github.com/unslothai/unsloth.git) (1.12)\n",
      "Requirement already satisfied: networkx in /home/mtman/Documents/Repos/yakwith.ai/.venv/lib/python3.10/site-packages (from torch->bitsandbytes->unsloth@ git+https://github.com/unslothai/unsloth.git->unsloth[cu121-ampere]@ git+https://github.com/unslothai/unsloth.git) (3.2.1)\n",
      "Requirement already satisfied: jinja2 in /home/mtman/Documents/Repos/yakwith.ai/.venv/lib/python3.10/site-packages (from torch->bitsandbytes->unsloth@ git+https://github.com/unslothai/unsloth.git->unsloth[cu121-ampere]@ git+https://github.com/unslothai/unsloth.git) (3.1.2)\n",
      "Requirement already satisfied: nvidia-cuda-nvrtc-cu12==12.1.105 in /home/mtman/Documents/Repos/yakwith.ai/.venv/lib/python3.10/site-packages (from torch->bitsandbytes->unsloth@ git+https://github.com/unslothai/unsloth.git->unsloth[cu121-ampere]@ git+https://github.com/unslothai/unsloth.git) (12.1.105)\n",
      "Requirement already satisfied: nvidia-cuda-runtime-cu12==12.1.105 in /home/mtman/Documents/Repos/yakwith.ai/.venv/lib/python3.10/site-packages (from torch->bitsandbytes->unsloth@ git+https://github.com/unslothai/unsloth.git->unsloth[cu121-ampere]@ git+https://github.com/unslothai/unsloth.git) (12.1.105)\n",
      "Requirement already satisfied: nvidia-cuda-cupti-cu12==12.1.105 in /home/mtman/Documents/Repos/yakwith.ai/.venv/lib/python3.10/site-packages (from torch->bitsandbytes->unsloth@ git+https://github.com/unslothai/unsloth.git->unsloth[cu121-ampere]@ git+https://github.com/unslothai/unsloth.git) (12.1.105)\n",
      "Requirement already satisfied: nvidia-cudnn-cu12==8.9.2.26 in /home/mtman/Documents/Repos/yakwith.ai/.venv/lib/python3.10/site-packages (from torch->bitsandbytes->unsloth@ git+https://github.com/unslothai/unsloth.git->unsloth[cu121-ampere]@ git+https://github.com/unslothai/unsloth.git) (8.9.2.26)\n",
      "Requirement already satisfied: nvidia-cublas-cu12==12.1.3.1 in /home/mtman/Documents/Repos/yakwith.ai/.venv/lib/python3.10/site-packages (from torch->bitsandbytes->unsloth@ git+https://github.com/unslothai/unsloth.git->unsloth[cu121-ampere]@ git+https://github.com/unslothai/unsloth.git) (12.1.3.1)\n",
      "Requirement already satisfied: nvidia-cufft-cu12==11.0.2.54 in /home/mtman/Documents/Repos/yakwith.ai/.venv/lib/python3.10/site-packages (from torch->bitsandbytes->unsloth@ git+https://github.com/unslothai/unsloth.git->unsloth[cu121-ampere]@ git+https://github.com/unslothai/unsloth.git) (11.0.2.54)\n",
      "Requirement already satisfied: nvidia-curand-cu12==10.3.2.106 in /home/mtman/Documents/Repos/yakwith.ai/.venv/lib/python3.10/site-packages (from torch->bitsandbytes->unsloth@ git+https://github.com/unslothai/unsloth.git->unsloth[cu121-ampere]@ git+https://github.com/unslothai/unsloth.git) (10.3.2.106)\n",
      "Requirement already satisfied: nvidia-cusolver-cu12==11.4.5.107 in /home/mtman/Documents/Repos/yakwith.ai/.venv/lib/python3.10/site-packages (from torch->bitsandbytes->unsloth@ git+https://github.com/unslothai/unsloth.git->unsloth[cu121-ampere]@ git+https://github.com/unslothai/unsloth.git) (11.4.5.107)\n",
      "Requirement already satisfied: nvidia-cusparse-cu12==12.1.0.106 in /home/mtman/Documents/Repos/yakwith.ai/.venv/lib/python3.10/site-packages (from torch->bitsandbytes->unsloth@ git+https://github.com/unslothai/unsloth.git->unsloth[cu121-ampere]@ git+https://github.com/unslothai/unsloth.git) (12.1.0.106)\n",
      "Requirement already satisfied: nvidia-nccl-cu12==2.18.1 in /home/mtman/Documents/Repos/yakwith.ai/.venv/lib/python3.10/site-packages (from torch->bitsandbytes->unsloth@ git+https://github.com/unslothai/unsloth.git->unsloth[cu121-ampere]@ git+https://github.com/unslothai/unsloth.git) (2.18.1)\n",
      "Requirement already satisfied: nvidia-nvtx-cu12==12.1.105 in /home/mtman/Documents/Repos/yakwith.ai/.venv/lib/python3.10/site-packages (from torch->bitsandbytes->unsloth@ git+https://github.com/unslothai/unsloth.git->unsloth[cu121-ampere]@ git+https://github.com/unslothai/unsloth.git) (12.1.105)\n",
      "Requirement already satisfied: triton==2.1.0 in /home/mtman/Documents/Repos/yakwith.ai/.venv/lib/python3.10/site-packages (from torch->bitsandbytes->unsloth@ git+https://github.com/unslothai/unsloth.git->unsloth[cu121-ampere]@ git+https://github.com/unslothai/unsloth.git) (2.1.0)\n",
      "Requirement already satisfied: nvidia-nvjitlink-cu12 in /home/mtman/Documents/Repos/yakwith.ai/.venv/lib/python3.10/site-packages (from nvidia-cusolver-cu12==11.4.5.107->torch->bitsandbytes->unsloth@ git+https://github.com/unslothai/unsloth.git->unsloth[cu121-ampere]@ git+https://github.com/unslothai/unsloth.git) (12.3.52)\n",
      "Requirement already satisfied: regex!=2019.12.17 in /home/mtman/Documents/Repos/yakwith.ai/.venv/lib/python3.10/site-packages (from transformers>=4.38.2->unsloth@ git+https://github.com/unslothai/unsloth.git->unsloth[cu121-ampere]@ git+https://github.com/unslothai/unsloth.git) (2023.10.3)\n",
      "Requirement already satisfied: tokenizers<0.19,>=0.14 in /home/mtman/Documents/Repos/yakwith.ai/.venv/lib/python3.10/site-packages (from transformers>=4.38.2->unsloth@ git+https://github.com/unslothai/unsloth.git->unsloth[cu121-ampere]@ git+https://github.com/unslothai/unsloth.git) (0.15.2)\n",
      "Requirement already satisfied: docstring-parser>=0.14.1 in /home/mtman/Documents/Repos/yakwith.ai/.venv/lib/python3.10/site-packages (from tyro->unsloth@ git+https://github.com/unslothai/unsloth.git->unsloth[cu121-ampere]@ git+https://github.com/unslothai/unsloth.git) (0.16)\n",
      "Requirement already satisfied: rich>=11.1.0 in /home/mtman/Documents/Repos/yakwith.ai/.venv/lib/python3.10/site-packages (from tyro->unsloth@ git+https://github.com/unslothai/unsloth.git->unsloth[cu121-ampere]@ git+https://github.com/unslothai/unsloth.git) (13.6.0)\n",
      "Requirement already satisfied: shtab>=1.5.6 in /home/mtman/Documents/Repos/yakwith.ai/.venv/lib/python3.10/site-packages (from tyro->unsloth@ git+https://github.com/unslothai/unsloth.git->unsloth[cu121-ampere]@ git+https://github.com/unslothai/unsloth.git) (1.7.1)\n",
      "Requirement already satisfied: attrs>=17.3.0 in /home/mtman/Documents/Repos/yakwith.ai/.venv/lib/python3.10/site-packages (from aiohttp->datasets>=2.16.0->unsloth@ git+https://github.com/unslothai/unsloth.git->unsloth[cu121-ampere]@ git+https://github.com/unslothai/unsloth.git) (23.1.0)\n",
      "Requirement already satisfied: charset-normalizer<4.0,>=2.0 in /home/mtman/Documents/Repos/yakwith.ai/.venv/lib/python3.10/site-packages (from aiohttp->datasets>=2.16.0->unsloth@ git+https://github.com/unslothai/unsloth.git->unsloth[cu121-ampere]@ git+https://github.com/unslothai/unsloth.git) (3.3.1)\n",
      "Requirement already satisfied: multidict<7.0,>=4.5 in /home/mtman/Documents/Repos/yakwith.ai/.venv/lib/python3.10/site-packages (from aiohttp->datasets>=2.16.0->unsloth@ git+https://github.com/unslothai/unsloth.git->unsloth[cu121-ampere]@ git+https://github.com/unslothai/unsloth.git) (6.0.4)\n",
      "Requirement already satisfied: async-timeout<5.0,>=4.0.0a3 in /home/mtman/Documents/Repos/yakwith.ai/.venv/lib/python3.10/site-packages (from aiohttp->datasets>=2.16.0->unsloth@ git+https://github.com/unslothai/unsloth.git->unsloth[cu121-ampere]@ git+https://github.com/unslothai/unsloth.git) (4.0.3)\n",
      "Requirement already satisfied: yarl<2.0,>=1.0 in /home/mtman/Documents/Repos/yakwith.ai/.venv/lib/python3.10/site-packages (from aiohttp->datasets>=2.16.0->unsloth@ git+https://github.com/unslothai/unsloth.git->unsloth[cu121-ampere]@ git+https://github.com/unslothai/unsloth.git) (1.9.2)\n",
      "Requirement already satisfied: frozenlist>=1.1.1 in /home/mtman/Documents/Repos/yakwith.ai/.venv/lib/python3.10/site-packages (from aiohttp->datasets>=2.16.0->unsloth@ git+https://github.com/unslothai/unsloth.git->unsloth[cu121-ampere]@ git+https://github.com/unslothai/unsloth.git) (1.4.0)\n",
      "Requirement already satisfied: aiosignal>=1.1.2 in /home/mtman/Documents/Repos/yakwith.ai/.venv/lib/python3.10/site-packages (from aiohttp->datasets>=2.16.0->unsloth@ git+https://github.com/unslothai/unsloth.git->unsloth[cu121-ampere]@ git+https://github.com/unslothai/unsloth.git) (1.3.1)\n",
      "Requirement already satisfied: idna<4,>=2.5 in /home/mtman/Documents/Repos/yakwith.ai/.venv/lib/python3.10/site-packages (from requests>=2.19.0->datasets>=2.16.0->unsloth@ git+https://github.com/unslothai/unsloth.git->unsloth[cu121-ampere]@ git+https://github.com/unslothai/unsloth.git) (3.4)\n",
      "Requirement already satisfied: urllib3<3,>=1.21.1 in /home/mtman/Documents/Repos/yakwith.ai/.venv/lib/python3.10/site-packages (from requests>=2.19.0->datasets>=2.16.0->unsloth@ git+https://github.com/unslothai/unsloth.git->unsloth[cu121-ampere]@ git+https://github.com/unslothai/unsloth.git) (1.26.18)\n",
      "Requirement already satisfied: certifi>=2017.4.17 in /home/mtman/Documents/Repos/yakwith.ai/.venv/lib/python3.10/site-packages (from requests>=2.19.0->datasets>=2.16.0->unsloth@ git+https://github.com/unslothai/unsloth.git->unsloth[cu121-ampere]@ git+https://github.com/unslothai/unsloth.git) (2023.7.22)\n",
      "Requirement already satisfied: markdown-it-py>=2.2.0 in /home/mtman/Documents/Repos/yakwith.ai/.venv/lib/python3.10/site-packages (from rich>=11.1.0->tyro->unsloth@ git+https://github.com/unslothai/unsloth.git->unsloth[cu121-ampere]@ git+https://github.com/unslothai/unsloth.git) (3.0.0)\n",
      "Requirement already satisfied: pygments<3.0.0,>=2.13.0 in /home/mtman/Documents/Repos/yakwith.ai/.venv/lib/python3.10/site-packages (from rich>=11.1.0->tyro->unsloth@ git+https://github.com/unslothai/unsloth.git->unsloth[cu121-ampere]@ git+https://github.com/unslothai/unsloth.git) (2.16.1)\n",
      "Requirement already satisfied: MarkupSafe>=2.0 in /home/mtman/Documents/Repos/yakwith.ai/.venv/lib/python3.10/site-packages (from jinja2->torch->bitsandbytes->unsloth@ git+https://github.com/unslothai/unsloth.git->unsloth[cu121-ampere]@ git+https://github.com/unslothai/unsloth.git) (2.1.3)\n",
      "Requirement already satisfied: python-dateutil>=2.8.2 in /home/mtman/Documents/Repos/yakwith.ai/.venv/lib/python3.10/site-packages (from pandas->datasets>=2.16.0->unsloth@ git+https://github.com/unslothai/unsloth.git->unsloth[cu121-ampere]@ git+https://github.com/unslothai/unsloth.git) (2.8.2)\n",
      "Requirement already satisfied: pytz>=2020.1 in /home/mtman/Documents/Repos/yakwith.ai/.venv/lib/python3.10/site-packages (from pandas->datasets>=2.16.0->unsloth@ git+https://github.com/unslothai/unsloth.git->unsloth[cu121-ampere]@ git+https://github.com/unslothai/unsloth.git) (2023.3.post1)\n",
      "Requirement already satisfied: tzdata>=2022.1 in /home/mtman/Documents/Repos/yakwith.ai/.venv/lib/python3.10/site-packages (from pandas->datasets>=2.16.0->unsloth@ git+https://github.com/unslothai/unsloth.git->unsloth[cu121-ampere]@ git+https://github.com/unslothai/unsloth.git) (2023.3)\n",
      "Requirement already satisfied: mpmath>=0.19 in /home/mtman/Documents/Repos/yakwith.ai/.venv/lib/python3.10/site-packages (from sympy->torch->bitsandbytes->unsloth@ git+https://github.com/unslothai/unsloth.git->unsloth[cu121-ampere]@ git+https://github.com/unslothai/unsloth.git) (1.3.0)\n",
      "Requirement already satisfied: mdurl~=0.1 in /home/mtman/Documents/Repos/yakwith.ai/.venv/lib/python3.10/site-packages (from markdown-it-py>=2.2.0->rich>=11.1.0->tyro->unsloth@ git+https://github.com/unslothai/unsloth.git->unsloth[cu121-ampere]@ git+https://github.com/unslothai/unsloth.git) (0.1.2)\n",
      "Requirement already satisfied: six>=1.5 in /home/mtman/Documents/Repos/yakwith.ai/.venv/lib/python3.10/site-packages (from python-dateutil>=2.8.2->pandas->datasets>=2.16.0->unsloth@ git+https://github.com/unslothai/unsloth.git->unsloth[cu121-ampere]@ git+https://github.com/unslothai/unsloth.git) (1.16.0)\n",
      "Building wheels for collected packages: unsloth\n",
      "  Building wheel for unsloth (pyproject.toml) ... \u001b[?25ldone\n",
      "\u001b[?25h  Created wheel for unsloth: filename=unsloth-2024.3-py3-none-any.whl size=90819 sha256=f33824c6d0cb9f7b513c4ed435bd81131d0c9a4e40ab20f960b7c43472efbfb4\n",
      "  Stored in directory: /tmp/pip-ephem-wheel-cache-xb0lhmjw/wheels/ed/d4/e9/76fb290ee3df0a5fc21ce5c2c788e29e9607a2353d8342fd0d\n",
      "Successfully built unsloth\n",
      "Installing collected packages: unsloth, xformers\n",
      "  Attempting uninstall: xformers\n",
      "    Found existing installation: xformers 0.0.25\n",
      "    Uninstalling xformers-0.0.25:\n",
      "      Successfully uninstalled xformers-0.0.25\n",
      "Successfully installed unsloth-2024.3 xformers-0.0.22.post7\n"
     ]
    }
   ],
   "source": [
    "!pip install \"unsloth[cu121-ampere] @ git+https://github.com/unslothai/unsloth.git\""
   ]
  },
  {
   "cell_type": "code",
   "execution_count": 2,
   "metadata": {},
   "outputs": [
    {
     "name": "stderr",
     "output_type": "stream",
     "text": [
      "/home/mtman/Documents/Repos/yakwith.ai/.venv/lib/python3.10/site-packages/tqdm/auto.py:21: TqdmWarning: IProgress not found. Please update jupyter and ipywidgets. See https://ipywidgets.readthedocs.io/en/stable/user_install.html\n",
      "  from .autonotebook import tqdm as notebook_tqdm\n"
     ]
    }
   ],
   "source": [
    "from unsloth import FastLanguageModel\n",
    "import torch\n",
    "max_seq_length = 4000 # Choose any! We auto support RoPE Scaling internally!\n",
    "dtype = None # None for auto detection. Float16 for Tesla T4, V100, Bfloat16 for Ampere+\n",
    "load_in_4bit = False # Use 4bit quantization to reduce memory usage. Can be False."
   ]
  },
  {
   "cell_type": "code",
   "execution_count": 3,
   "metadata": {},
   "outputs": [
    {
     "name": "stdout",
     "output_type": "stream",
     "text": [
      "==((====))==  Unsloth: Fast Mistral patching release 2024.3\n",
      "   \\\\   /|    GPU: NVIDIA GeForce RTX 4090. Max memory: 23.65 GB. Platform = Linux.\n",
      "O^O/ \\_/ \\    Pytorch: 2.1.0+cu121. CUDA = 8.9. CUDA Toolkit = 12.1.\n",
      "\\        /    Bfloat16 = TRUE. Xformers = 0.0.22.post7. FA = True.\n",
      " \"-____-\"     Free Apache license: http://github.com/unslothai/unsloth\n"
     ]
    },
    {
     "name": "stderr",
     "output_type": "stream",
     "text": [
      "Loading checkpoint shards: 100%|██████████| 2/2 [00:01<00:00,  1.57it/s]\n",
      "Special tokens have been added in the vocabulary, make sure the associated word embeddings are fine-tuned or trained.\n",
      "Special tokens have been added in the vocabulary, make sure the associated word embeddings are fine-tuned or trained.\n"
     ]
    }
   ],
   "source": [
    "model, tokenizer = FastLanguageModel.from_pretrained(\n",
    "    model_name = \"/home/mtman/Documents/Repos/yakwith.ai/models/Mistral-7B-OpenOrca\",\n",
    "    max_seq_length = max_seq_length,\n",
    "    dtype = dtype,\n",
    "    load_in_4bit = load_in_4bit,\n",
    "    # token = \"hf_...\", # use one if using gated models like meta-llama/Llama-2-7b-hf\n",
    ")"
   ]
  },
  {
   "cell_type": "code",
   "execution_count": 4,
   "metadata": {},
   "outputs": [
    {
     "name": "stderr",
     "output_type": "stream",
     "text": [
      "Unsloth 2024.3 patched 32 layers with 32 QKV layers, 32 O layers and 32 MLP layers.\n"
     ]
    }
   ],
   "source": [
    "model = FastLanguageModel.get_peft_model(\n",
    "    model,\n",
    "    r = 16, # Choose any number > 0 ! Suggested 8, 16, 32, 64, 128\n",
    "    target_modules = [\"q_proj\", \"k_proj\", \"v_proj\", \"o_proj\",\n",
    "                      \"gate_proj\", \"up_proj\", \"down_proj\",],\n",
    "    lora_alpha = 32,\n",
    "    lora_dropout = 0, # Supports any, but = 0 is optimized\n",
    "    bias = \"none\",    # Supports any, but = \"none\" is optimized\n",
    "    use_gradient_checkpointing = True,\n",
    "    random_state = 3407,\n",
    "    use_rslora = False,  # We support rank stabilized LoRA\n",
    "    loftq_config = None, # And LoftQ\n",
    ")"
   ]
  },
  {
   "cell_type": "code",
   "execution_count": null,
   "metadata": {},
   "outputs": [],
   "source": [
    "model"
   ]
  },
  {
   "cell_type": "code",
   "execution_count": 5,
   "metadata": {},
   "outputs": [
    {
     "name": "stderr",
     "output_type": "stream",
     "text": [
      "Generating train split: 27 examples [00:00, 6032.72 examples/s]\n",
      "Map: 100%|██████████| 27/27 [00:00<00:00, 6913.27 examples/s]\n"
     ]
    }
   ],
   "source": [
    "import datasets\n",
    "\n",
    "from datasets import load_dataset\n",
    "def format_text(text):\n",
    "    return {'text':str(text)}\n",
    "dataset = load_dataset('csv', data_files='/home/mtman/Documents/Repos/yakwith.ai/data/1710414135.058893_0cf/completion_data.tsv', split='train')\n",
    "dataset = dataset.map(format_text)"
   ]
  },
  {
   "cell_type": "code",
   "execution_count": 6,
   "metadata": {},
   "outputs": [
    {
     "data": {
      "text/plain": [
       "'{\\'<|im_start|>system\\\\nYou are a casual waiter in a restaurant. Your job is to collect food and drink orders from customers and answer their questions.  You do not make up answers about the menu if the item is not on the menu. \\\\n             If there are any options listed explicitly or implicitly in the menu item then you must let the customer know the options available and ask which one they would like. The options might be indicated by the word \\\\\\'or\\\\\\' or listed in the \\\\\\'other\\\\\\' section, or implicitly, by the appearance of more than one price option for a drink which corresponds to small and large size (e.g $4 / $5.5 means small size if $4 and $5.5 is large size).\\\\n            If the customer hasn\\\\\\'t added a drink to their order then you should ask if they\\\\\\'d like anything to drink. If they have only ordered a drink then ask if they would like any food.\\\\n        . The menu is as follows: {\"food_items\": [{\"name\": \"TWIST BIG BREAKFAST\", \"price\": \"$28\", \"descriptions\": [\"Two Poached or Fried Eggs\", \"Gourmet Pork Sausages\", \"Haloumi\", \"Grilled Tomato\", \"Spinach\", \"Sourdough\"]}, {\"name\": \"EGGS BENEDICT\", \"price\": \"$26\", \"descriptions\": [\"Two Poached Eggs\", \"Spinach\", \"Hollandaise Sauce\", \"Served on Sourdough\"], \"other\": [\"Choice of: Salmon, Bacon or Ham\"]}, {\"name\": \"BREKKY ROLL\", \"price\": \"$13\", \"descriptions\": [\"Bacon & Egg on a Milk Bun\"], \"other\": [\"Sauce: Tomato, BBQ, Chipotle Mayo or Aioli\", \"Add Cheese - $1, Smashed Avo - $2\"]}, {\"name\": \"TWIST WINTER BUN\", \"price\": \"$17\", \"descriptions\": [\"Bacon or Haloumi\", \"Egg\", \"Tomato\", \"Caramelized Onion\", \"Mixed Leaves\", \"Melted Cheese\", \"Aioli\"], \"other\": [\"Add Smashed Avo - $2\"]}], \"immune_booster_shake\": {\"price\": \"$14\", \"Ingredients\": [\"Green apple\", \"Banana\", \"Spinach\", \"Mint\", \"Lime\", \"Ginger\"]}, \"extra_items\": {\"Salmon, Gourmet Pork Sausages\": \"$6\", \"Bacon, Haloumi\": \"$5\", \"Avocado, Grilled Tomato\": \"$4\", \"Free-Range Egg\": \"$3\", \"Gluten-Free Bread\": \"$2\"}, \"tea\": {\"T-NOMICS ORGANIC LEAF TEA\": \"$5\", \"Varieties\": [\"English Breakfast\", \"Earl Grey\", \"Peppermint\", \"Lemongrass & Ginger\", \"Golden Oolong Green\"]}} <|im_end|>\\\\n<|im_start|>user\\\\nDo you have pancakes?<|im_end|>\\\\n<|im_start|>assistant\\\\nI\\\\\\'m sorry, we don\\\\\\'t have pancakes on our menu. May I suggest our Fruit Toast or the Twist Big Breakfast instead?<|im_end|>\\\\n<|im_start|>user\\\\nIn that case, I\\\\\\'ll have the Twist Big Breakfast with fried eggs, please.<|im_end|>\\\\n<|im_start|>assistant\\\\nCertainly, your Twist Big Breakfast with fried eggs will be right up. Would you like anything to drink?<|im_end|>\\\\n<|im_start|>user\\\\nYes, a Peppermint tea would be great, thanks.<|im_end|>\\\\n<|im_start|>assistant\\\\nA Peppermint tea, got it. Your order will be ready shortly.<|im_end|>\\\\n\\': \\'<|im_start|>system\\\\nYou are a casual waiter in a restaurant. Your job is to collect food and drink orders from customers and answer their questions.  You do not make up answers about the menu if the item is not on the menu. \\\\n             If there are any options listed explicitly or implicitly in the menu item then you must let the customer know the options available and ask which one they would like. The options might be indicated by the word \\\\\\'or\\\\\\' or listed in the \\\\\\'other\\\\\\' section, or implicitly, by the appearance of more than one price option for a drink which corresponds to small and large size (e.g $4 / $5.5 means small size if $4 and $5.5 is large size).\\\\n            If the customer hasn\\\\\\'t added a drink to their order then you should ask if they\\\\\\'d like anything to drink. If they have only ordered a drink then ask if they would like any food.\\\\n        . The menu is as follows: {\"food_items\": [{\"name\": \"TWIST BIG BREAKFAST\", \"price\": \"$28\", \"descriptions\": [\"Two Poached or Fried Eggs\", \"Gourmet Pork Sausages\", \"Haloumi\", \"Grilled Tomato\", \"Spinach\", \"Sourdough\"]}, {\"name\": \"EGGS BENEDICT\", \"price\": \"$26\", \"descriptions\": [\"Two Poached Eggs\", \"Spinach\", \"Hollandaise Sauce\", \"Served on Sourdough\"], \"other\": [\"Choice of: Salmon, Bacon or Ham\"]}, {\"name\": \"BREKKY ROLL\", \"price\": \"$13\", \"descriptions\": [\"Bacon & Egg on a Milk Bun\"], \"other\": [\"Sauce: Tomato, BBQ, Chipotle Mayo or Aioli\", \"Add Cheese - $1, Smashed Avo - $2\"]}, {\"name\": \"TWIST WINTER BUN\", \"price\": \"$17\", \"descriptions\": [\"Bacon or Haloumi\", \"Egg\", \"Tomato\", \"Caramelized Onion\", \"Mixed Leaves\", \"Melted Cheese\", \"Aioli\"], \"other\": [\"Add Smashed Avo - $2\"]}], \"immune_booster_shake\": {\"price\": \"$14\", \"Ingredients\": [\"Green apple\", \"Banana\", \"Spinach\", \"Mint\", \"Lime\", \"Ginger\"]}, \"extra_items\": {\"Salmon, Gourmet Pork Sausages\": \"$6\", \"Bacon, Haloumi\": \"$5\", \"Avocado, Grilled Tomato\": \"$4\", \"Free-Range Egg\": \"$3\", \"Gluten-Free Bread\": \"$2\"}, \"tea\": {\"T-NOMICS ORGANIC LEAF TEA\": \"$5\", \"Varieties\": [\"English Breakfast\", \"Earl Grey\", \"Peppermint\", \"Lemongrass & Ginger\", \"Golden Oolong Green\"]}} <|im_end|>\\\\n<|im_start|>user\\\\nCan I get a chicken sandwich?<|im_end|>\\\\n<|im_start|>assistant\\\\nI apologize, but we don\\\\\\'t offer a chicken sandwich. Perhaps you might be interested in our Brekky Roll or Twist Winter Bun?<|im_end|>\\\\n<|im_start|>user\\\\nAlright, I\\\\\\'ll try the Brekky Roll then. With BBQ sauce, please.<|im_end|>\\\\n<|im_start|>assistant\\\\nCertainly, a Brekky Roll with BBQ sauce. Would you like to add cheese or smashed avo?<|im_end|>\\\\n<|im_start|>user\\\\nAdd cheese, please.<|im_end|>\\\\n<|im_start|>assistant\\\\nCheese added. Anything to drink?<|im_end|>\\\\n<|im_start|>user\\\\nJust a water, thanks.<|im_end|>\\\\n<|im_start|>assistant\\\\nCertainly, we\\\\\\'ll bring your Brekky Roll with BBQ sauce and cheese, along with a water.<|im_end|>\\\\n\\'}'"
      ]
     },
     "execution_count": 6,
     "metadata": {},
     "output_type": "execute_result"
    }
   ],
   "source": [
    "len(dataset); dataset[0]['text']"
   ]
  },
  {
   "cell_type": "code",
   "execution_count": 8,
   "metadata": {},
   "outputs": [],
   "source": [
    "from trl import SFTTrainer\n",
    "from transformers import TrainingArguments\n",
    "\n",
    "trainer = SFTTrainer(\n",
    "    model = model,\n",
    "    tokenizer = tokenizer,\n",
    "    train_dataset = dataset,\n",
    "    dataset_text_field = \"text\",\n",
    "    max_seq_length = max_seq_length,\n",
    "    dataset_num_proc = 2,\n",
    "    packing = False, # Can make training 5x faster for short sequences.\n",
    "    args = TrainingArguments(\n",
    "        per_device_train_batch_size = 5,\n",
    "        gradient_accumulation_steps = 2,\n",
    "        warmup_steps = 5,\n",
    "        max_steps = 30,\n",
    "        learning_rate = 2e-4,\n",
    "        fp16 = not torch.cuda.is_bf16_supported(),\n",
    "        bf16 = torch.cuda.is_bf16_supported(),\n",
    "        logging_steps = 1,\n",
    "        optim = \"adamw_8bit\",\n",
    "        weight_decay = 0.01,\n",
    "        lr_scheduler_type = \"linear\",\n",
    "        seed = 3407,\n",
    "        output_dir = \"outputs\",\n",
    "    ),\n",
    ")\n"
   ]
  },
  {
   "cell_type": "code",
   "execution_count": 9,
   "metadata": {},
   "outputs": [
    {
     "name": "stderr",
     "output_type": "stream",
     "text": [
      "==((====))==  Unsloth - 2x faster free finetuning | Num GPUs = 1\n",
      "   \\\\   /|    Num examples = 27 | Num Epochs = 10\n",
      "O^O/ \\_/ \\    Batch size per device = 5 | Gradient Accumulation steps = 2\n",
      "\\        /    Total batch size = 10 | Total steps = 30\n",
      " \"-____-\"     Number of trainable parameters = 41,943,040\n"
     ]
    },
    {
     "data": {
      "text/html": [
       "\n",
       "    <div>\n",
       "      \n",
       "      <progress value='30' max='30' style='width:300px; height:20px; vertical-align: middle;'></progress>\n",
       "      [30/30 02:48, Epoch 10/10]\n",
       "    </div>\n",
       "    <table border=\"1\" class=\"dataframe\">\n",
       "  <thead>\n",
       " <tr style=\"text-align: left;\">\n",
       "      <th>Step</th>\n",
       "      <th>Training Loss</th>\n",
       "    </tr>\n",
       "  </thead>\n",
       "  <tbody>\n",
       "    <tr>\n",
       "      <td>1</td>\n",
       "      <td>1.323500</td>\n",
       "    </tr>\n",
       "    <tr>\n",
       "      <td>2</td>\n",
       "      <td>1.361400</td>\n",
       "    </tr>\n",
       "    <tr>\n",
       "      <td>3</td>\n",
       "      <td>1.207100</td>\n",
       "    </tr>\n",
       "    <tr>\n",
       "      <td>4</td>\n",
       "      <td>0.939100</td>\n",
       "    </tr>\n",
       "    <tr>\n",
       "      <td>5</td>\n",
       "      <td>0.749700</td>\n",
       "    </tr>\n",
       "    <tr>\n",
       "      <td>6</td>\n",
       "      <td>0.601900</td>\n",
       "    </tr>\n",
       "    <tr>\n",
       "      <td>7</td>\n",
       "      <td>0.466500</td>\n",
       "    </tr>\n",
       "    <tr>\n",
       "      <td>8</td>\n",
       "      <td>0.334800</td>\n",
       "    </tr>\n",
       "    <tr>\n",
       "      <td>9</td>\n",
       "      <td>0.224300</td>\n",
       "    </tr>\n",
       "    <tr>\n",
       "      <td>10</td>\n",
       "      <td>0.182300</td>\n",
       "    </tr>\n",
       "    <tr>\n",
       "      <td>11</td>\n",
       "      <td>0.118200</td>\n",
       "    </tr>\n",
       "    <tr>\n",
       "      <td>12</td>\n",
       "      <td>0.093000</td>\n",
       "    </tr>\n",
       "    <tr>\n",
       "      <td>13</td>\n",
       "      <td>0.074300</td>\n",
       "    </tr>\n",
       "    <tr>\n",
       "      <td>14</td>\n",
       "      <td>0.066400</td>\n",
       "    </tr>\n",
       "    <tr>\n",
       "      <td>15</td>\n",
       "      <td>0.049000</td>\n",
       "    </tr>\n",
       "    <tr>\n",
       "      <td>16</td>\n",
       "      <td>0.050500</td>\n",
       "    </tr>\n",
       "    <tr>\n",
       "      <td>17</td>\n",
       "      <td>0.041800</td>\n",
       "    </tr>\n",
       "    <tr>\n",
       "      <td>18</td>\n",
       "      <td>0.049300</td>\n",
       "    </tr>\n",
       "    <tr>\n",
       "      <td>19</td>\n",
       "      <td>0.034400</td>\n",
       "    </tr>\n",
       "    <tr>\n",
       "      <td>20</td>\n",
       "      <td>0.035100</td>\n",
       "    </tr>\n",
       "    <tr>\n",
       "      <td>21</td>\n",
       "      <td>0.033900</td>\n",
       "    </tr>\n",
       "    <tr>\n",
       "      <td>22</td>\n",
       "      <td>0.029300</td>\n",
       "    </tr>\n",
       "    <tr>\n",
       "      <td>23</td>\n",
       "      <td>0.026100</td>\n",
       "    </tr>\n",
       "    <tr>\n",
       "      <td>24</td>\n",
       "      <td>0.029300</td>\n",
       "    </tr>\n",
       "    <tr>\n",
       "      <td>25</td>\n",
       "      <td>0.022900</td>\n",
       "    </tr>\n",
       "    <tr>\n",
       "      <td>26</td>\n",
       "      <td>0.023800</td>\n",
       "    </tr>\n",
       "    <tr>\n",
       "      <td>27</td>\n",
       "      <td>0.022200</td>\n",
       "    </tr>\n",
       "    <tr>\n",
       "      <td>28</td>\n",
       "      <td>0.020200</td>\n",
       "    </tr>\n",
       "    <tr>\n",
       "      <td>29</td>\n",
       "      <td>0.021700</td>\n",
       "    </tr>\n",
       "    <tr>\n",
       "      <td>30</td>\n",
       "      <td>0.017900</td>\n",
       "    </tr>\n",
       "  </tbody>\n",
       "</table><p>"
      ],
      "text/plain": [
       "<IPython.core.display.HTML object>"
      ]
     },
     "metadata": {},
     "output_type": "display_data"
    }
   ],
   "source": [
    "trainer_stats = trainer.train()"
   ]
  },
  {
   "cell_type": "code",
   "execution_count": 10,
   "metadata": {},
   "outputs": [],
   "source": [
    "FastLanguageModel.for_inference(model)"
   ]
  },
  {
   "cell_type": "code",
   "execution_count": 52,
   "metadata": {},
   "outputs": [],
   "source": [
    "message = [{\"role\":\"system\",'content':'{\"\"food_items\"\": [{\"\"name\"\": \"\"EGGS POACHED OR FRIED\"\", \"\"price\"\": \"\"$13\"\", \"\"descriptions\"\": [\"\"Served on Sourdough or Ciabatta\"\"], \"\"other\"\": [\"\"Add Cheese - $1, Smashed Avo - $2\"\"]}, {\"\"name\"\": \"\"RUSTIC TOAST\"\", \"\"price\"\": \"\"$8.50\"\", \"\"descriptions\"\": [\"\"Sourdough or Ciabatta\"\", \"\"Fig & Lemon Jam\"\", \"\"Orange Marmalade\"\", \"\"Strawberry Jam\"\", \"\"Peanut Butter or Vegemite\"\"]}, {\"\"name\"\": \"\"MEXICAN eggs\"\", \"\"price\"\": \"\"$23\"\", \"\"descriptions\"\": [\"\"Mixed Beans Cooked with Chili, Garlic, Onion and Herbs in a Rich Tomato Sauce\"\", \"\"Baked with Mozzarella\"\", \"\"Two Poached Eggs\"\", \"\"Ciabatta\"\"]}, {\"\"name\"\": \"\"HOT CHEESE\"\", \"\"price\"\": \"\"$9.50\"\", \"\"descriptions\"\": [\"\"With Tomato & Oregano on Sourdough\"\"]}], \"\"tea\"\": {\"\"T-NOMICS ORGANIC LEAF TEA\"\": \"\"$5\"\", \"\"Varieties\"\": [\"\"English Breakfast\"\", \"\"Earl Grey\"\", \"\"Peppermint\"\", \"\"Lemongrass & Ginger\"\", \"\"Golden Oolong Green\"\"]}, \"\"immune_booster_shake\"\": {\"\"price\"\": \"\"$14\"\", \"\"Ingredients\"\": [\"\"Green apple\"\", \"\"Banana\"\", \"\"Spinach\"\", \"\"Mint\"\", \"\"Lime\"\", \"\"Ginger\"\"]}, \"\"protein_shake\"\": {\"\"price\"\": \"\"$14\"\", \"\"Ingredients\"\": [\"\"Peanut butter\"\", \"\"Modern pea protein\"\", \"\"Almond milk\"\", \"\"Banana\"\", \"\"Honey & ice\"\"], \"\"Additions\"\": [\"\"Add shot of coffee $0.5\"\"]}, \"\"extra_items\"\": {\"\"Salmon, Gourmet Pork Sausages\"\": \"\"$6\"\", \"\"Bacon, Haloumi\"\": \"\"$5\"\", \"\"Avocado, Grilled Tomato\"\": \"\"$4\"\", \"\"Free-Range Egg\"\": \"\"$3\"\", \"\"Gluten-Free Bread\"\": \"\"$2\"\"}}'},{\"role\":\"user\",\"content\":'For the Hot Cheese, can I have haloumi instead of the regular cheese?'}]"
   ]
  },
  {
   "cell_type": "code",
   "execution_count": 14,
   "metadata": {},
   "outputs": [],
   "source": [
    "message = [{\"role\":\"system\",'content':'{\"\"food_items\"\": [{\"\"name\"\": \"\"EGGS POACHED OR FRIED\"\", \"\"price\"\": \"\"$13\"\", \"\"descriptions\"\": [\"\"Served on Sourdough or Ciabatta\"\"], \"\"other\"\": [\"\"Add Cheese - $1, Smashed Avo - $2\"\"]}, {\"\"name\"\": \"\"RUSTIC TOAST\"\", \"\"price\"\": \"\"$8.50\"\", \"\"descriptions\"\": [\"\"Sourdough or Ciabatta\"\", \"\"Fig & Lemon Jam\"\", \"\"Orange Marmalade\"\", \"\"Strawberry Jam\"\", \"\"Peanut Butter or Vegemite\"\"]}, {\"\"name\"\": \"\"MEXICAN eggs\"\", \"\"price\"\": \"\"$23\"\", \"\"descriptions\"\": [\"\"Mixed Beans Cooked with Chili, Garlic, Onion and Herbs in a Rich Tomato Sauce\"\", \"\"Baked with Mozzarella\"\", \"\"Two Poached Eggs\"\", \"\"Ciabatta\"\"]}, {\"\"name\"\": \"\"HOT CHEESE\"\", \"\"price\"\": \"\"$9.50\"\", \"\"descriptions\"\": [\"\"With Tomato & Oregano on Sourdough\"\"]}], \"\"tea\"\": {\"\"T-NOMICS ORGANIC LEAF TEA\"\": \"\"$5\"\", \"\"Varieties\"\": [\"\"English Breakfast\"\", \"\"Earl Grey\"\", \"\"Peppermint\"\", \"\"Lemongrass & Ginger\"\", \"\"Golden Oolong Green\"\"]}, \"\"immune_booster_shake\"\": {\"\"price\"\": \"\"$14\"\", \"\"Ingredients\"\": [\"\"Green apple\"\", \"\"Banana\"\", \"\"Spinach\"\", \"\"Mint\"\", \"\"Lime\"\", \"\"Ginger\"\"]}, \"\"protein_shake\"\": {\"\"price\"\": \"\"$14\"\", \"\"Ingredients\"\": [\"\"Peanut butter\"\", \"\"Modern pea protein\"\", \"\"Almond milk\"\", \"\"Banana\"\", \"\"Honey & ice\"\"], \"\"Additions\"\": [\"\"Add shot of coffee $0.5\"\"]}, \"\"extra_items\"\": {\"\"Salmon, Gourmet Pork Sausages\"\": \"\"$6\"\", \"\"Bacon, Haloumi\"\": \"\"$5\"\", \"\"Avocado, Grilled Tomato\"\": \"\"$4\"\", \"\"Free-Range Egg\"\": \"\"$3\"\", \"\"Gluten-Free Bread\"\": \"\"$2\"\"}}'},{\"role\":\"user\",\"content\":'Hi, can I just get some toast thanks?'}]"
   ]
  },
  {
   "cell_type": "code",
   "execution_count": 11,
   "metadata": {},
   "outputs": [],
   "source": [
    "message = [{\"role\":\"system\",'content':'{\"\"food_items\"\": [{\"\"name\"\": \"\"eggs poached or fried\"\", \"\"price\"\": \"\"$13\"\", \"\"descriptions\"\": [\"\"Served on Sourdough or Ciabatta\"\"], \"\"other\"\": [\"\"Add Cheese - $1, Smashed Avo - $2\"\"]}, {\"\"name\"\": \"\"RUSTIC TOAST\"\", \"\"price\"\": \"\"$8.50\"\", \"\"descriptions\"\": [\"\"Sourdough or Ciabatta\"\", \"\"Fig & Lemon Jam\"\", \"\"Orange Marmalade\"\", \"\"Strawberry Jam\"\", \"\"Peanut Butter or Vegemite\"\"]}, {\"\"name\"\": \"\"MEXICAN eggs\"\", \"\"price\"\": \"\"$23\"\", \"\"descriptions\"\": [\"\"Mixed Beans Cooked with Chili, Garlic, Onion and Herbs in a Rich Tomato Sauce\"\", \"\"Baked with Mozzarella\"\", \"\"Two Poached Eggs\"\", \"\"Ciabatta\"\"]}, {\"\"name\"\": \"\"HOT CHEESE\"\", \"\"price\"\": \"\"$9.50\"\", \"\"descriptions\"\": [\"\"With Tomato & Oregano on Sourdough\"\"]}], \"\"tea\"\": {\"\"T-NOMICS ORGANIC LEAF TEA\"\": \"\"$5\"\", \"\"Varieties\"\": [\"\"English Breakfast\"\", \"\"Earl Grey\"\", \"\"Peppermint\"\", \"\"Lemongrass & Ginger\"\", \"\"Golden Oolong Green\"\"]}, \"\"immune_booster_shake\"\": {\"\"price\"\": \"\"$14\"\", \"\"Ingredients\"\": [\"\"Green apple\"\", \"\"Banana\"\", \"\"Spinach\"\", \"\"Mint\"\", \"\"Lime\"\", \"\"Ginger\"\"]}, \"\"protein_shake\"\": {\"\"price\"\": \"\"$14\"\", \"\"Ingredients\"\": [\"\"Peanut butter\"\", \"\"Modern pea protein\"\", \"\"Almond milk\"\", \"\"Banana\"\", \"\"Honey & ice\"\"], \"\"Additions\"\": [\"\"Add shot of coffee $0.5\"\"]}, \"\"extra_items\"\": {\"\"Salmon, Gourmet Pork Sausages\"\": \"\"$6\"\", \"\"Bacon, Haloumi\"\": \"\"$5\"\", \"\"Avocado, Grilled Tomato\"\": \"\"$4\"\", \"\"Free-Range Egg\"\": \"\"$3\"\", \"\"Gluten-Free Bread\"\": \"\"$2\"\"}}'},{\"role\":\"user\",\"content\":'Which teas are organic?'}]"
   ]
  },
  {
   "cell_type": "code",
   "execution_count": 12,
   "metadata": {},
   "outputs": [],
   "source": [
    "from transformers import TextStreamer\n",
    "text_streamer = TextStreamer(tokenizer)"
   ]
  },
  {
   "cell_type": "code",
   "execution_count": 15,
   "metadata": {},
   "outputs": [
    {
     "name": "stderr",
     "output_type": "stream",
     "text": [
      "The attention mask and the pad token id were not set. As a consequence, you may observe unexpected behavior. Please pass your input's `attention_mask` to obtain reliable results.\n",
      "Setting `pad_token_id` to `eos_token_id`:32000 for open-end generation.\n"
     ]
    },
    {
     "name": "stdout",
     "output_type": "stream",
     "text": [
      "<|im_start|> system\n",
      "{\"\"food_items\"\": [{\"\"name\"\": \"\"EGGS POACHED OR FRIED\"\", \"\"price\"\": \"\"$13\"\", \"\"descriptions\"\": [\"\"Served on Sourdough or Ciabatta\"\"], \"\"other\"\": [\"\"Add Cheese - $1, Smashed Avo - $2\"\"]}, {\"\"name\"\": \"\"RUSTIC TOAST\"\", \"\"price\"\": \"\"$8.50\"\", \"\"descriptions\"\": [\"\"Sourdough or Ciabatta\"\", \"\"Fig & Lemon Jam\"\", \"\"Orange Marmalade\"\", \"\"Strawberry Jam\"\", \"\"Peanut Butter or Vegemite\"\"]}, {\"\"name\"\": \"\"MEXICAN eggs\"\", \"\"price\"\": \"\"$23\"\", \"\"descriptions\"\": [\"\"Mixed Beans Cooked with Chili, Garlic, Onion and Herbs in a Rich Tomato Sauce\"\", \"\"Baked with Mozzarella\"\", \"\"Two Poached Eggs\"\", \"\"Ciabatta\"\"]}, {\"\"name\"\": \"\"HOT CHEESE\"\", \"\"price\"\": \"\"$9.50\"\", \"\"descriptions\"\": [\"\"With Tomato & Oregano on Sourdough\"\"]}], \"\"tea\"\": {\"\"T-NOMICS ORGANIC LEAF TEA\"\": \"\"$5\"\", \"\"Varieties\"\": [\"\"English Breakfast\"\", \"\"Earl Grey\"\", \"\"Peppermint\"\", \"\"Lemongrass & Ginger\"\", \"\"Golden Oolong Green\"\"]}, \"\"immune_booster_shake\"\": {\"\"price\"\": \"\"$14\"\", \"\"Ingredients\"\": [\"\"Green apple\"\", \"\"Banana\"\", \"\"Spinach\"\", \"\"Mint\"\", \"\"Lime\"\", \"\"Ginger\"\"]}, \"\"protein_shake\"\": {\"\"price\"\": \"\"$14\"\", \"\"Ingredients\"\": [\"\"Peanut butter\"\", \"\"Modern pea protein\"\", \"\"Almond milk\"\", \"\"Banana\"\", \"\"Honey & ice\"\"], \"\"Additions\"\": [\"\"Add shot of coffee $0.5\"\"]}, \"\"extra_items\"\": {\"\"Salmon, Gourmet Pork Sausages\"\": \"\"$6\"\", \"\"Bacon, Haloumi\"\": \"\"$5\"\", \"\"Avocado, Grilled Tomato\"\": \"\"$4\"\", \"\"Free-Range Egg\"\": \"\"$3\"\", \"\"Gluten-Free Bread\"\": \"\"$2\"\"}}<|im_end|><|im_start|> user\n",
      "Hi, can I just get some toast thanks?<|im_end|><|im_start|> assistant\n",
      "Of course, would you like it with any spread?<|im_end|>\n"
     ]
    }
   ],
   "source": [
    "inputs = tokenizer.apply_chat_template(message,tokenize=True, add_generation_prompt=True,return_tensors='pt')\n",
    "input = inputs.to('cuda')\n",
    "_ = model.generate(input_ids = input, streamer=text_streamer, max_new_tokens = 64, use_cache = True)\n",
    "\n",
    "# tokenizer.batch_decode(outputs)"
   ]
  },
  {
   "cell_type": "code",
   "execution_count": 89,
   "metadata": {},
   "outputs": [
    {
     "data": {
      "text/plain": [
       "PeftModelForCausalLM(\n",
       "  (base_model): LoraModel(\n",
       "    (model): MistralForCausalLM(\n",
       "      (model): MistralModel(\n",
       "        (embed_tokens): Embedding(32002, 4096)\n",
       "        (layers): ModuleList(\n",
       "          (0-31): 32 x MistralDecoderLayer(\n",
       "            (self_attn): MistralAttention(\n",
       "              (q_proj): lora.Linear(\n",
       "                (base_layer): Linear(in_features=4096, out_features=4096, bias=False)\n",
       "                (lora_dropout): ModuleDict(\n",
       "                  (default): Identity()\n",
       "                )\n",
       "                (lora_A): ModuleDict(\n",
       "                  (default): Linear(in_features=4096, out_features=16, bias=False)\n",
       "                )\n",
       "                (lora_B): ModuleDict(\n",
       "                  (default): Linear(in_features=16, out_features=4096, bias=False)\n",
       "                )\n",
       "                (lora_embedding_A): ParameterDict()\n",
       "                (lora_embedding_B): ParameterDict()\n",
       "              )\n",
       "              (k_proj): lora.Linear(\n",
       "                (base_layer): Linear(in_features=4096, out_features=1024, bias=False)\n",
       "                (lora_dropout): ModuleDict(\n",
       "                  (default): Identity()\n",
       "                )\n",
       "                (lora_A): ModuleDict(\n",
       "                  (default): Linear(in_features=4096, out_features=16, bias=False)\n",
       "                )\n",
       "                (lora_B): ModuleDict(\n",
       "                  (default): Linear(in_features=16, out_features=1024, bias=False)\n",
       "                )\n",
       "                (lora_embedding_A): ParameterDict()\n",
       "                (lora_embedding_B): ParameterDict()\n",
       "              )\n",
       "              (v_proj): lora.Linear(\n",
       "                (base_layer): Linear(in_features=4096, out_features=1024, bias=False)\n",
       "                (lora_dropout): ModuleDict(\n",
       "                  (default): Identity()\n",
       "                )\n",
       "                (lora_A): ModuleDict(\n",
       "                  (default): Linear(in_features=4096, out_features=16, bias=False)\n",
       "                )\n",
       "                (lora_B): ModuleDict(\n",
       "                  (default): Linear(in_features=16, out_features=1024, bias=False)\n",
       "                )\n",
       "                (lora_embedding_A): ParameterDict()\n",
       "                (lora_embedding_B): ParameterDict()\n",
       "              )\n",
       "              (o_proj): lora.Linear(\n",
       "                (base_layer): Linear(in_features=4096, out_features=4096, bias=False)\n",
       "                (lora_dropout): ModuleDict(\n",
       "                  (default): Identity()\n",
       "                )\n",
       "                (lora_A): ModuleDict(\n",
       "                  (default): Linear(in_features=4096, out_features=16, bias=False)\n",
       "                )\n",
       "                (lora_B): ModuleDict(\n",
       "                  (default): Linear(in_features=16, out_features=4096, bias=False)\n",
       "                )\n",
       "                (lora_embedding_A): ParameterDict()\n",
       "                (lora_embedding_B): ParameterDict()\n",
       "              )\n",
       "              (rotary_emb): LlamaRotaryEmbedding()\n",
       "            )\n",
       "            (mlp): MistralMLP(\n",
       "              (gate_proj): lora.Linear(\n",
       "                (base_layer): Linear(in_features=4096, out_features=14336, bias=False)\n",
       "                (lora_dropout): ModuleDict(\n",
       "                  (default): Identity()\n",
       "                )\n",
       "                (lora_A): ModuleDict(\n",
       "                  (default): Linear(in_features=4096, out_features=16, bias=False)\n",
       "                )\n",
       "                (lora_B): ModuleDict(\n",
       "                  (default): Linear(in_features=16, out_features=14336, bias=False)\n",
       "                )\n",
       "                (lora_embedding_A): ParameterDict()\n",
       "                (lora_embedding_B): ParameterDict()\n",
       "              )\n",
       "              (up_proj): lora.Linear(\n",
       "                (base_layer): Linear(in_features=4096, out_features=14336, bias=False)\n",
       "                (lora_dropout): ModuleDict(\n",
       "                  (default): Identity()\n",
       "                )\n",
       "                (lora_A): ModuleDict(\n",
       "                  (default): Linear(in_features=4096, out_features=16, bias=False)\n",
       "                )\n",
       "                (lora_B): ModuleDict(\n",
       "                  (default): Linear(in_features=16, out_features=14336, bias=False)\n",
       "                )\n",
       "                (lora_embedding_A): ParameterDict()\n",
       "                (lora_embedding_B): ParameterDict()\n",
       "              )\n",
       "              (down_proj): lora.Linear(\n",
       "                (base_layer): Linear(in_features=14336, out_features=4096, bias=False)\n",
       "                (lora_dropout): ModuleDict(\n",
       "                  (default): Identity()\n",
       "                )\n",
       "                (lora_A): ModuleDict(\n",
       "                  (default): Linear(in_features=14336, out_features=16, bias=False)\n",
       "                )\n",
       "                (lora_B): ModuleDict(\n",
       "                  (default): Linear(in_features=16, out_features=4096, bias=False)\n",
       "                )\n",
       "                (lora_embedding_A): ParameterDict()\n",
       "                (lora_embedding_B): ParameterDict()\n",
       "              )\n",
       "              (act_fn): SiLU()\n",
       "            )\n",
       "            (input_layernorm): MistralRMSNorm()\n",
       "            (post_attention_layernorm): MistralRMSNorm()\n",
       "          )\n",
       "        )\n",
       "        (norm): MistralRMSNorm()\n",
       "      )\n",
       "      (lm_head): Linear(in_features=4096, out_features=32002, bias=False)\n",
       "    )\n",
       "  )\n",
       ")"
      ]
     },
     "execution_count": 89,
     "metadata": {},
     "output_type": "execute_result"
    }
   ],
   "source": [
    "model"
   ]
  },
  {
   "cell_type": "code",
   "execution_count": 16,
   "metadata": {},
   "outputs": [
    {
     "name": "stdout",
     "output_type": "stream",
     "text": [
      "Unsloth: Merging 4bit and LoRA weights to 16bit...\n",
      "Unsloth: Will use up to 40.46 out of 61.94 RAM for saving.\n"
     ]
    },
    {
     "name": "stderr",
     "output_type": "stream",
     "text": [
      "100%|██████████| 32/32 [00:00<00:00, 110.56it/s]\n"
     ]
    },
    {
     "name": "stdout",
     "output_type": "stream",
     "text": [
      "Unsloth: Saving tokenizer... Done.\n",
      "Unsloth: Saving model... This might take 5 minutes for Llama-7b...\n",
      "Done.\n"
     ]
    },
    {
     "ename": "",
     "evalue": "",
     "output_type": "error",
     "traceback": [
      "\u001b[1;31mThe Kernel crashed while executing code in the current cell or a previous cell. \n",
      "\u001b[1;31mPlease review the code in the cell(s) to identify a possible cause of the failure. \n",
      "\u001b[1;31mClick <a href='https://aka.ms/vscodeJupyterKernelCrash'>here</a> for more info. \n",
      "\u001b[1;31mView Jupyter <a href='command:jupyter.viewOutput'>log</a> for further details."
     ]
    }
   ],
   "source": [
    "model.save_pretrained_merged(\"/home/mtman/Documents/Repos/yakwith.ai/models/Finetuned-Mistral-7B-OpenOrca\", tokenizer, save_method=\"merged_16bit\",)"
   ]
  },
  {
   "cell_type": "code",
   "execution_count": null,
   "metadata": {},
   "outputs": [],
   "source": []
  }
 ],
 "metadata": {
  "kernelspec": {
   "display_name": ".venv",
   "language": "python",
   "name": "python3"
  },
  "language_info": {
   "codemirror_mode": {
    "name": "ipython",
    "version": 3
   },
   "file_extension": ".py",
   "mimetype": "text/x-python",
   "name": "python",
   "nbconvert_exporter": "python",
   "pygments_lexer": "ipython3",
   "version": "3.10.12"
  }
 },
 "nbformat": 4,
 "nbformat_minor": 2
}
